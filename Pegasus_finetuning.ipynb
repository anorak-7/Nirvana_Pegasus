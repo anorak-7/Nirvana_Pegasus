{
  "nbformat": 4,
  "nbformat_minor": 0,
  "metadata": {
    "colab": {
      "name": "Pegasus-finetuning.ipynb",
      "provenance": [],
      "collapsed_sections": [],
      "include_colab_link": true
    },
    "kernelspec": {
      "name": "python3",
      "display_name": "Python 3"
    },
    "accelerator": "GPU"
  },
  "cells": [
    {
      "cell_type": "markdown",
      "metadata": {
        "id": "view-in-github",
        "colab_type": "text"
      },
      "source": [
        "<a href=\"https://colab.research.google.com/github/gautam-1/Nirvana_Pegasus/blob/main/Pegasus_finetuning.ipynb\" target=\"_parent\"><img src=\"https://colab.research.google.com/assets/colab-badge.svg\" alt=\"Open In Colab\"/></a>"
      ]
    },
    {
      "cell_type": "markdown",
      "metadata": {
        "id": "ANTWUT2aTxhL"
      },
      "source": [
        "**Mount Google Drive**"
      ]
    },
    {
      "cell_type": "markdown",
      "metadata": {
        "id": "_2jQibUJUWFZ"
      },
      "source": [
        "**Clone the repository and place it in your drive**\r\n",
        "ok sir\r\n",
        "\r\n",
        "\r\n",
        "*   List item\r\n",
        "*   List item\r\n",
        "\r\n"
      ]
    },
    {
      "cell_type": "code",
      "metadata": {
        "id": "CWOzpMYqrCZM",
        "colab": {
          "base_uri": "https://localhost:8080/"
        },
        "outputId": "f0f36aa7-8e2e-43f2-bded-61f7f88118b0"
      },
      "source": [
        "!git clone https://github.com/nsi319/Finetune-Transformers.git /content/drive/MyDrive/Finetune/"
      ],
      "execution_count": null,
      "outputs": [
        {
          "output_type": "stream",
          "text": [
            "Cloning into '/content/drive/MyDrive/Finetune'...\n",
            "remote: Enumerating objects: 835, done.\u001b[K\n",
            "remote: Counting objects: 100% (835/835), done.\u001b[K\n",
            "remote: Compressing objects: 100% (512/512), done.\u001b[K\n",
            "remote: Total 835 (delta 332), reused 815 (delta 319), pack-reused 0\u001b[K\n",
            "Receiving objects: 100% (835/835), 2.58 MiB | 3.36 MiB/s, done.\n",
            "Resolving deltas: 100% (332/332), done.\n"
          ],
          "name": "stdout"
        }
      ]
    },
    {
      "cell_type": "markdown",
      "metadata": {
        "id": "KK2kcMYNOp8r"
      },
      "source": [
        "**Install packages**"
      ]
    },
    {
      "cell_type": "code",
      "metadata": {
        "id": "yLG0rEUkq0x5",
        "colab": {
          "base_uri": "https://localhost:8080/"
        },
        "outputId": "4741a3ac-a28a-4da5-e900-33505b08cf0d"
      },
      "source": [
        "# Huggingface Transformer library for Trainer API, Data Arguments classes\n",
        "!pip install transformers \n",
        "# For using available datasets such as xsum, cnn-dailymail\n",
        "!pip install datasets\n",
        "# For computing metrics and evaluating summaries    \n",
        "!pip install rouge_score  "
      ],
      "execution_count": null,
      "outputs": [
        {
          "output_type": "stream",
          "text": [
            "Collecting transformers\n",
            "\u001b[?25l  Downloading https://files.pythonhosted.org/packages/f9/54/5ca07ec9569d2f232f3166de5457b63943882f7950ddfcc887732fc7fb23/transformers-4.3.3-py3-none-any.whl (1.9MB)\n",
            "\r\u001b[K     |▏                               | 10kB 24.8MB/s eta 0:00:01\r\u001b[K     |▍                               | 20kB 31.9MB/s eta 0:00:01\r\u001b[K     |▌                               | 30kB 22.2MB/s eta 0:00:01\r\u001b[K     |▊                               | 40kB 17.3MB/s eta 0:00:01\r\u001b[K     |▉                               | 51kB 14.9MB/s eta 0:00:01\r\u001b[K     |█                               | 61kB 13.7MB/s eta 0:00:01\r\u001b[K     |█▏                              | 71kB 15.2MB/s eta 0:00:01\r\u001b[K     |█▍                              | 81kB 15.1MB/s eta 0:00:01\r\u001b[K     |█▌                              | 92kB 14.1MB/s eta 0:00:01\r\u001b[K     |█▊                              | 102kB 15.2MB/s eta 0:00:01\r\u001b[K     |██                              | 112kB 15.2MB/s eta 0:00:01\r\u001b[K     |██                              | 122kB 15.2MB/s eta 0:00:01\r\u001b[K     |██▎                             | 133kB 15.2MB/s eta 0:00:01\r\u001b[K     |██▍                             | 143kB 15.2MB/s eta 0:00:01\r\u001b[K     |██▋                             | 153kB 15.2MB/s eta 0:00:01\r\u001b[K     |██▊                             | 163kB 15.2MB/s eta 0:00:01\r\u001b[K     |███                             | 174kB 15.2MB/s eta 0:00:01\r\u001b[K     |███                             | 184kB 15.2MB/s eta 0:00:01\r\u001b[K     |███▎                            | 194kB 15.2MB/s eta 0:00:01\r\u001b[K     |███▌                            | 204kB 15.2MB/s eta 0:00:01\r\u001b[K     |███▋                            | 215kB 15.2MB/s eta 0:00:01\r\u001b[K     |███▉                            | 225kB 15.2MB/s eta 0:00:01\r\u001b[K     |████                            | 235kB 15.2MB/s eta 0:00:01\r\u001b[K     |████▏                           | 245kB 15.2MB/s eta 0:00:01\r\u001b[K     |████▎                           | 256kB 15.2MB/s eta 0:00:01\r\u001b[K     |████▌                           | 266kB 15.2MB/s eta 0:00:01\r\u001b[K     |████▋                           | 276kB 15.2MB/s eta 0:00:01\r\u001b[K     |████▉                           | 286kB 15.2MB/s eta 0:00:01\r\u001b[K     |█████                           | 296kB 15.2MB/s eta 0:00:01\r\u001b[K     |█████▏                          | 307kB 15.2MB/s eta 0:00:01\r\u001b[K     |█████▍                          | 317kB 15.2MB/s eta 0:00:01\r\u001b[K     |█████▌                          | 327kB 15.2MB/s eta 0:00:01\r\u001b[K     |█████▊                          | 337kB 15.2MB/s eta 0:00:01\r\u001b[K     |█████▉                          | 348kB 15.2MB/s eta 0:00:01\r\u001b[K     |██████                          | 358kB 15.2MB/s eta 0:00:01\r\u001b[K     |██████▏                         | 368kB 15.2MB/s eta 0:00:01\r\u001b[K     |██████▍                         | 378kB 15.2MB/s eta 0:00:01\r\u001b[K     |██████▋                         | 389kB 15.2MB/s eta 0:00:01\r\u001b[K     |██████▊                         | 399kB 15.2MB/s eta 0:00:01\r\u001b[K     |███████                         | 409kB 15.2MB/s eta 0:00:01\r\u001b[K     |███████                         | 419kB 15.2MB/s eta 0:00:01\r\u001b[K     |███████▎                        | 430kB 15.2MB/s eta 0:00:01\r\u001b[K     |███████▍                        | 440kB 15.2MB/s eta 0:00:01\r\u001b[K     |███████▋                        | 450kB 15.2MB/s eta 0:00:01\r\u001b[K     |███████▊                        | 460kB 15.2MB/s eta 0:00:01\r\u001b[K     |████████                        | 471kB 15.2MB/s eta 0:00:01\r\u001b[K     |████████▏                       | 481kB 15.2MB/s eta 0:00:01\r\u001b[K     |████████▎                       | 491kB 15.2MB/s eta 0:00:01\r\u001b[K     |████████▌                       | 501kB 15.2MB/s eta 0:00:01\r\u001b[K     |████████▋                       | 512kB 15.2MB/s eta 0:00:01\r\u001b[K     |████████▉                       | 522kB 15.2MB/s eta 0:00:01\r\u001b[K     |█████████                       | 532kB 15.2MB/s eta 0:00:01\r\u001b[K     |█████████▏                      | 542kB 15.2MB/s eta 0:00:01\r\u001b[K     |█████████▎                      | 552kB 15.2MB/s eta 0:00:01\r\u001b[K     |█████████▌                      | 563kB 15.2MB/s eta 0:00:01\r\u001b[K     |█████████▊                      | 573kB 15.2MB/s eta 0:00:01\r\u001b[K     |█████████▉                      | 583kB 15.2MB/s eta 0:00:01\r\u001b[K     |██████████                      | 593kB 15.2MB/s eta 0:00:01\r\u001b[K     |██████████▏                     | 604kB 15.2MB/s eta 0:00:01\r\u001b[K     |██████████▍                     | 614kB 15.2MB/s eta 0:00:01\r\u001b[K     |██████████▌                     | 624kB 15.2MB/s eta 0:00:01\r\u001b[K     |██████████▊                     | 634kB 15.2MB/s eta 0:00:01\r\u001b[K     |██████████▉                     | 645kB 15.2MB/s eta 0:00:01\r\u001b[K     |███████████                     | 655kB 15.2MB/s eta 0:00:01\r\u001b[K     |███████████▎                    | 665kB 15.2MB/s eta 0:00:01\r\u001b[K     |███████████▍                    | 675kB 15.2MB/s eta 0:00:01\r\u001b[K     |███████████▋                    | 686kB 15.2MB/s eta 0:00:01\r\u001b[K     |███████████▊                    | 696kB 15.2MB/s eta 0:00:01\r\u001b[K     |████████████                    | 706kB 15.2MB/s eta 0:00:01\r\u001b[K     |████████████                    | 716kB 15.2MB/s eta 0:00:01\r\u001b[K     |████████████▎                   | 727kB 15.2MB/s eta 0:00:01\r\u001b[K     |████████████▍                   | 737kB 15.2MB/s eta 0:00:01\r\u001b[K     |████████████▋                   | 747kB 15.2MB/s eta 0:00:01\r\u001b[K     |████████████▉                   | 757kB 15.2MB/s eta 0:00:01\r\u001b[K     |█████████████                   | 768kB 15.2MB/s eta 0:00:01\r\u001b[K     |█████████████▏                  | 778kB 15.2MB/s eta 0:00:01\r\u001b[K     |█████████████▎                  | 788kB 15.2MB/s eta 0:00:01\r\u001b[K     |█████████████▌                  | 798kB 15.2MB/s eta 0:00:01\r\u001b[K     |█████████████▋                  | 808kB 15.2MB/s eta 0:00:01\r\u001b[K     |█████████████▉                  | 819kB 15.2MB/s eta 0:00:01\r\u001b[K     |██████████████                  | 829kB 15.2MB/s eta 0:00:01\r\u001b[K     |██████████████▏                 | 839kB 15.2MB/s eta 0:00:01\r\u001b[K     |██████████████▍                 | 849kB 15.2MB/s eta 0:00:01\r\u001b[K     |██████████████▌                 | 860kB 15.2MB/s eta 0:00:01\r\u001b[K     |██████████████▊                 | 870kB 15.2MB/s eta 0:00:01\r\u001b[K     |██████████████▉                 | 880kB 15.2MB/s eta 0:00:01\r\u001b[K     |███████████████                 | 890kB 15.2MB/s eta 0:00:01\r\u001b[K     |███████████████▏                | 901kB 15.2MB/s eta 0:00:01\r\u001b[K     |███████████████▍                | 911kB 15.2MB/s eta 0:00:01\r\u001b[K     |███████████████▌                | 921kB 15.2MB/s eta 0:00:01\r\u001b[K     |███████████████▊                | 931kB 15.2MB/s eta 0:00:01\r\u001b[K     |████████████████                | 942kB 15.2MB/s eta 0:00:01\r\u001b[K     |████████████████                | 952kB 15.2MB/s eta 0:00:01\r\u001b[K     |████████████████▎               | 962kB 15.2MB/s eta 0:00:01\r\u001b[K     |████████████████▍               | 972kB 15.2MB/s eta 0:00:01\r\u001b[K     |████████████████▋               | 983kB 15.2MB/s eta 0:00:01\r\u001b[K     |████████████████▊               | 993kB 15.2MB/s eta 0:00:01\r\u001b[K     |█████████████████               | 1.0MB 15.2MB/s eta 0:00:01\r\u001b[K     |█████████████████               | 1.0MB 15.2MB/s eta 0:00:01\r\u001b[K     |█████████████████▎              | 1.0MB 15.2MB/s eta 0:00:01\r\u001b[K     |█████████████████▍              | 1.0MB 15.2MB/s eta 0:00:01\r\u001b[K     |█████████████████▋              | 1.0MB 15.2MB/s eta 0:00:01\r\u001b[K     |█████████████████▉              | 1.1MB 15.2MB/s eta 0:00:01\r\u001b[K     |██████████████████              | 1.1MB 15.2MB/s eta 0:00:01\r\u001b[K     |██████████████████▏             | 1.1MB 15.2MB/s eta 0:00:01\r\u001b[K     |██████████████████▎             | 1.1MB 15.2MB/s eta 0:00:01\r\u001b[K     |██████████████████▌             | 1.1MB 15.2MB/s eta 0:00:01\r\u001b[K     |██████████████████▋             | 1.1MB 15.2MB/s eta 0:00:01\r\u001b[K     |██████████████████▉             | 1.1MB 15.2MB/s eta 0:00:01\r\u001b[K     |███████████████████             | 1.1MB 15.2MB/s eta 0:00:01\r\u001b[K     |███████████████████▏            | 1.1MB 15.2MB/s eta 0:00:01\r\u001b[K     |███████████████████▍            | 1.1MB 15.2MB/s eta 0:00:01\r\u001b[K     |███████████████████▌            | 1.2MB 15.2MB/s eta 0:00:01\r\u001b[K     |███████████████████▊            | 1.2MB 15.2MB/s eta 0:00:01\r\u001b[K     |███████████████████▉            | 1.2MB 15.2MB/s eta 0:00:01\r\u001b[K     |████████████████████            | 1.2MB 15.2MB/s eta 0:00:01\r\u001b[K     |████████████████████▏           | 1.2MB 15.2MB/s eta 0:00:01\r\u001b[K     |████████████████████▍           | 1.2MB 15.2MB/s eta 0:00:01\r\u001b[K     |████████████████████▌           | 1.2MB 15.2MB/s eta 0:00:01\r\u001b[K     |████████████████████▊           | 1.2MB 15.2MB/s eta 0:00:01\r\u001b[K     |█████████████████████           | 1.2MB 15.2MB/s eta 0:00:01\r\u001b[K     |█████████████████████           | 1.2MB 15.2MB/s eta 0:00:01\r\u001b[K     |█████████████████████▎          | 1.3MB 15.2MB/s eta 0:00:01\r\u001b[K     |█████████████████████▍          | 1.3MB 15.2MB/s eta 0:00:01\r\u001b[K     |█████████████████████▋          | 1.3MB 15.2MB/s eta 0:00:01\r\u001b[K     |█████████████████████▊          | 1.3MB 15.2MB/s eta 0:00:01\r\u001b[K     |██████████████████████          | 1.3MB 15.2MB/s eta 0:00:01\r\u001b[K     |██████████████████████          | 1.3MB 15.2MB/s eta 0:00:01\r\u001b[K     |██████████████████████▎         | 1.3MB 15.2MB/s eta 0:00:01\r\u001b[K     |██████████████████████▌         | 1.3MB 15.2MB/s eta 0:00:01\r\u001b[K     |██████████████████████▋         | 1.3MB 15.2MB/s eta 0:00:01\r\u001b[K     |██████████████████████▉         | 1.4MB 15.2MB/s eta 0:00:01\r\u001b[K     |███████████████████████         | 1.4MB 15.2MB/s eta 0:00:01\r\u001b[K     |███████████████████████▏        | 1.4MB 15.2MB/s eta 0:00:01\r\u001b[K     |███████████████████████▎        | 1.4MB 15.2MB/s eta 0:00:01\r\u001b[K     |███████████████████████▌        | 1.4MB 15.2MB/s eta 0:00:01\r\u001b[K     |███████████████████████▋        | 1.4MB 15.2MB/s eta 0:00:01\r\u001b[K     |███████████████████████▉        | 1.4MB 15.2MB/s eta 0:00:01\r\u001b[K     |████████████████████████        | 1.4MB 15.2MB/s eta 0:00:01\r\u001b[K     |████████████████████████▏       | 1.4MB 15.2MB/s eta 0:00:01\r\u001b[K     |████████████████████████▍       | 1.4MB 15.2MB/s eta 0:00:01\r\u001b[K     |████████████████████████▌       | 1.5MB 15.2MB/s eta 0:00:01\r\u001b[K     |████████████████████████▊       | 1.5MB 15.2MB/s eta 0:00:01\r\u001b[K     |████████████████████████▉       | 1.5MB 15.2MB/s eta 0:00:01\r\u001b[K     |█████████████████████████       | 1.5MB 15.2MB/s eta 0:00:01\r\u001b[K     |█████████████████████████▏      | 1.5MB 15.2MB/s eta 0:00:01\r\u001b[K     |█████████████████████████▍      | 1.5MB 15.2MB/s eta 0:00:01\r\u001b[K     |█████████████████████████▋      | 1.5MB 15.2MB/s eta 0:00:01\r\u001b[K     |█████████████████████████▊      | 1.5MB 15.2MB/s eta 0:00:01\r\u001b[K     |██████████████████████████      | 1.5MB 15.2MB/s eta 0:00:01\r\u001b[K     |██████████████████████████      | 1.5MB 15.2MB/s eta 0:00:01\r\u001b[K     |██████████████████████████▎     | 1.6MB 15.2MB/s eta 0:00:01\r\u001b[K     |██████████████████████████▍     | 1.6MB 15.2MB/s eta 0:00:01\r\u001b[K     |██████████████████████████▋     | 1.6MB 15.2MB/s eta 0:00:01\r\u001b[K     |██████████████████████████▊     | 1.6MB 15.2MB/s eta 0:00:01\r\u001b[K     |███████████████████████████     | 1.6MB 15.2MB/s eta 0:00:01\r\u001b[K     |███████████████████████████▏    | 1.6MB 15.2MB/s eta 0:00:01\r\u001b[K     |███████████████████████████▎    | 1.6MB 15.2MB/s eta 0:00:01\r\u001b[K     |███████████████████████████▌    | 1.6MB 15.2MB/s eta 0:00:01\r\u001b[K     |███████████████████████████▋    | 1.6MB 15.2MB/s eta 0:00:01\r\u001b[K     |███████████████████████████▉    | 1.6MB 15.2MB/s eta 0:00:01\r\u001b[K     |████████████████████████████    | 1.7MB 15.2MB/s eta 0:00:01\r\u001b[K     |████████████████████████████▏   | 1.7MB 15.2MB/s eta 0:00:01\r\u001b[K     |████████████████████████████▎   | 1.7MB 15.2MB/s eta 0:00:01\r\u001b[K     |████████████████████████████▌   | 1.7MB 15.2MB/s eta 0:00:01\r\u001b[K     |████████████████████████████▊   | 1.7MB 15.2MB/s eta 0:00:01\r\u001b[K     |████████████████████████████▉   | 1.7MB 15.2MB/s eta 0:00:01\r\u001b[K     |█████████████████████████████   | 1.7MB 15.2MB/s eta 0:00:01\r\u001b[K     |█████████████████████████████▏  | 1.7MB 15.2MB/s eta 0:00:01\r\u001b[K     |█████████████████████████████▍  | 1.7MB 15.2MB/s eta 0:00:01\r\u001b[K     |█████████████████████████████▌  | 1.8MB 15.2MB/s eta 0:00:01\r\u001b[K     |█████████████████████████████▊  | 1.8MB 15.2MB/s eta 0:00:01\r\u001b[K     |█████████████████████████████▉  | 1.8MB 15.2MB/s eta 0:00:01\r\u001b[K     |██████████████████████████████  | 1.8MB 15.2MB/s eta 0:00:01\r\u001b[K     |██████████████████████████████▎ | 1.8MB 15.2MB/s eta 0:00:01\r\u001b[K     |██████████████████████████████▍ | 1.8MB 15.2MB/s eta 0:00:01\r\u001b[K     |██████████████████████████████▋ | 1.8MB 15.2MB/s eta 0:00:01\r\u001b[K     |██████████████████████████████▊ | 1.8MB 15.2MB/s eta 0:00:01\r\u001b[K     |███████████████████████████████ | 1.8MB 15.2MB/s eta 0:00:01\r\u001b[K     |███████████████████████████████ | 1.8MB 15.2MB/s eta 0:00:01\r\u001b[K     |███████████████████████████████▎| 1.9MB 15.2MB/s eta 0:00:01\r\u001b[K     |███████████████████████████████▍| 1.9MB 15.2MB/s eta 0:00:01\r\u001b[K     |███████████████████████████████▋| 1.9MB 15.2MB/s eta 0:00:01\r\u001b[K     |███████████████████████████████▉| 1.9MB 15.2MB/s eta 0:00:01\r\u001b[K     |████████████████████████████████| 1.9MB 15.2MB/s eta 0:00:01\r\u001b[K     |████████████████████████████████| 1.9MB 15.2MB/s \n",
            "\u001b[?25hRequirement already satisfied: importlib-metadata; python_version < \"3.8\" in /usr/local/lib/python3.7/dist-packages (from transformers) (3.7.0)\n",
            "Requirement already satisfied: requests in /usr/local/lib/python3.7/dist-packages (from transformers) (2.23.0)\n",
            "Requirement already satisfied: regex!=2019.12.17 in /usr/local/lib/python3.7/dist-packages (from transformers) (2019.12.20)\n",
            "Requirement already satisfied: tqdm>=4.27 in /usr/local/lib/python3.7/dist-packages (from transformers) (4.41.1)\n",
            "Collecting sacremoses\n",
            "\u001b[?25l  Downloading https://files.pythonhosted.org/packages/7d/34/09d19aff26edcc8eb2a01bed8e98f13a1537005d31e95233fd48216eed10/sacremoses-0.0.43.tar.gz (883kB)\n",
            "\u001b[K     |████████████████████████████████| 890kB 55.7MB/s \n",
            "\u001b[?25hCollecting tokenizers<0.11,>=0.10.1\n",
            "\u001b[?25l  Downloading https://files.pythonhosted.org/packages/71/23/2ddc317b2121117bf34dd00f5b0de194158f2a44ee2bf5e47c7166878a97/tokenizers-0.10.1-cp37-cp37m-manylinux2010_x86_64.whl (3.2MB)\n",
            "\u001b[K     |████████████████████████████████| 3.2MB 53.6MB/s \n",
            "\u001b[?25hRequirement already satisfied: packaging in /usr/local/lib/python3.7/dist-packages (from transformers) (20.9)\n",
            "Requirement already satisfied: numpy>=1.17 in /usr/local/lib/python3.7/dist-packages (from transformers) (1.19.5)\n",
            "Requirement already satisfied: filelock in /usr/local/lib/python3.7/dist-packages (from transformers) (3.0.12)\n",
            "Requirement already satisfied: typing-extensions>=3.6.4; python_version < \"3.8\" in /usr/local/lib/python3.7/dist-packages (from importlib-metadata; python_version < \"3.8\"->transformers) (3.7.4.3)\n",
            "Requirement already satisfied: zipp>=0.5 in /usr/local/lib/python3.7/dist-packages (from importlib-metadata; python_version < \"3.8\"->transformers) (3.4.1)\n",
            "Requirement already satisfied: urllib3!=1.25.0,!=1.25.1,<1.26,>=1.21.1 in /usr/local/lib/python3.7/dist-packages (from requests->transformers) (1.24.3)\n",
            "Requirement already satisfied: certifi>=2017.4.17 in /usr/local/lib/python3.7/dist-packages (from requests->transformers) (2020.12.5)\n",
            "Requirement already satisfied: idna<3,>=2.5 in /usr/local/lib/python3.7/dist-packages (from requests->transformers) (2.10)\n",
            "Requirement already satisfied: chardet<4,>=3.0.2 in /usr/local/lib/python3.7/dist-packages (from requests->transformers) (3.0.4)\n",
            "Requirement already satisfied: six in /usr/local/lib/python3.7/dist-packages (from sacremoses->transformers) (1.15.0)\n",
            "Requirement already satisfied: click in /usr/local/lib/python3.7/dist-packages (from sacremoses->transformers) (7.1.2)\n",
            "Requirement already satisfied: joblib in /usr/local/lib/python3.7/dist-packages (from sacremoses->transformers) (1.0.1)\n",
            "Requirement already satisfied: pyparsing>=2.0.2 in /usr/local/lib/python3.7/dist-packages (from packaging->transformers) (2.4.7)\n",
            "Building wheels for collected packages: sacremoses\n",
            "  Building wheel for sacremoses (setup.py) ... \u001b[?25l\u001b[?25hdone\n",
            "  Created wheel for sacremoses: filename=sacremoses-0.0.43-cp37-none-any.whl size=893262 sha256=d71d8541470b860eb3b6b66c3a89abaad8045c7d54c2bbb263bd138ff849b8d9\n",
            "  Stored in directory: /root/.cache/pip/wheels/29/3c/fd/7ce5c3f0666dab31a50123635e6fb5e19ceb42ce38d4e58f45\n",
            "Successfully built sacremoses\n",
            "Installing collected packages: sacremoses, tokenizers, transformers\n",
            "Successfully installed sacremoses-0.0.43 tokenizers-0.10.1 transformers-4.3.3\n",
            "Collecting datasets\n",
            "\u001b[?25l  Downloading https://files.pythonhosted.org/packages/3e/73/742d17d8a9a1c639132affccc9250f0743e484cbf263ede6ddcbe34ef212/datasets-1.4.1-py3-none-any.whl (186kB)\n",
            "\u001b[K     |████████████████████████████████| 194kB 14.1MB/s \n",
            "\u001b[?25hRequirement already satisfied: tqdm<4.50.0,>=4.27 in /usr/local/lib/python3.7/dist-packages (from datasets) (4.41.1)\n",
            "Requirement already satisfied: numpy>=1.17 in /usr/local/lib/python3.7/dist-packages (from datasets) (1.19.5)\n",
            "Requirement already satisfied: requests>=2.19.0 in /usr/local/lib/python3.7/dist-packages (from datasets) (2.23.0)\n",
            "Requirement already satisfied: pyarrow>=0.17.1 in /usr/local/lib/python3.7/dist-packages (from datasets) (3.0.0)\n",
            "Collecting fsspec\n",
            "\u001b[?25l  Downloading https://files.pythonhosted.org/packages/91/0d/a6bfee0ddf47b254286b9bd574e6f50978c69897647ae15b14230711806e/fsspec-0.8.7-py3-none-any.whl (103kB)\n",
            "\u001b[K     |████████████████████████████████| 112kB 25.9MB/s \n",
            "\u001b[?25hRequirement already satisfied: pandas in /usr/local/lib/python3.7/dist-packages (from datasets) (1.1.5)\n",
            "Requirement already satisfied: importlib-metadata; python_version < \"3.8\" in /usr/local/lib/python3.7/dist-packages (from datasets) (3.7.0)\n",
            "Collecting xxhash\n",
            "\u001b[?25l  Downloading https://files.pythonhosted.org/packages/e7/27/1c0b37c53a7852f1c190ba5039404d27b3ae96a55f48203a74259f8213c9/xxhash-2.0.0-cp37-cp37m-manylinux2010_x86_64.whl (243kB)\n",
            "\u001b[K     |████████████████████████████████| 245kB 22.3MB/s \n",
            "\u001b[?25hRequirement already satisfied: dill in /usr/local/lib/python3.7/dist-packages (from datasets) (0.3.3)\n",
            "Requirement already satisfied: multiprocess in /usr/local/lib/python3.7/dist-packages (from datasets) (0.70.11.1)\n",
            "Collecting huggingface-hub==0.0.2\n",
            "  Downloading https://files.pythonhosted.org/packages/b5/93/7cb0755c62c36cdadc70c79a95681df685b52cbaf76c724facb6ecac3272/huggingface_hub-0.0.2-py3-none-any.whl\n",
            "Requirement already satisfied: urllib3!=1.25.0,!=1.25.1,<1.26,>=1.21.1 in /usr/local/lib/python3.7/dist-packages (from requests>=2.19.0->datasets) (1.24.3)\n",
            "Requirement already satisfied: chardet<4,>=3.0.2 in /usr/local/lib/python3.7/dist-packages (from requests>=2.19.0->datasets) (3.0.4)\n",
            "Requirement already satisfied: idna<3,>=2.5 in /usr/local/lib/python3.7/dist-packages (from requests>=2.19.0->datasets) (2.10)\n",
            "Requirement already satisfied: certifi>=2017.4.17 in /usr/local/lib/python3.7/dist-packages (from requests>=2.19.0->datasets) (2020.12.5)\n",
            "Requirement already satisfied: pytz>=2017.2 in /usr/local/lib/python3.7/dist-packages (from pandas->datasets) (2018.9)\n",
            "Requirement already satisfied: python-dateutil>=2.7.3 in /usr/local/lib/python3.7/dist-packages (from pandas->datasets) (2.8.1)\n",
            "Requirement already satisfied: zipp>=0.5 in /usr/local/lib/python3.7/dist-packages (from importlib-metadata; python_version < \"3.8\"->datasets) (3.4.1)\n",
            "Requirement already satisfied: typing-extensions>=3.6.4; python_version < \"3.8\" in /usr/local/lib/python3.7/dist-packages (from importlib-metadata; python_version < \"3.8\"->datasets) (3.7.4.3)\n",
            "Requirement already satisfied: filelock in /usr/local/lib/python3.7/dist-packages (from huggingface-hub==0.0.2->datasets) (3.0.12)\n",
            "Requirement already satisfied: six>=1.5 in /usr/local/lib/python3.7/dist-packages (from python-dateutil>=2.7.3->pandas->datasets) (1.15.0)\n",
            "Installing collected packages: fsspec, xxhash, huggingface-hub, datasets\n",
            "Successfully installed datasets-1.4.1 fsspec-0.8.7 huggingface-hub-0.0.2 xxhash-2.0.0\n",
            "Collecting rouge_score\n",
            "  Downloading https://files.pythonhosted.org/packages/1f/56/a81022436c08b9405a5247b71635394d44fe7e1dbedc4b28c740e09c2840/rouge_score-0.0.4-py2.py3-none-any.whl\n",
            "Requirement already satisfied: nltk in /usr/local/lib/python3.7/dist-packages (from rouge_score) (3.2.5)\n",
            "Requirement already satisfied: absl-py in /usr/local/lib/python3.7/dist-packages (from rouge_score) (0.10.0)\n",
            "Requirement already satisfied: numpy in /usr/local/lib/python3.7/dist-packages (from rouge_score) (1.19.5)\n",
            "Requirement already satisfied: six>=1.14.0 in /usr/local/lib/python3.7/dist-packages (from rouge_score) (1.15.0)\n",
            "Installing collected packages: rouge-score\n",
            "Successfully installed rouge-score-0.0.4\n"
          ],
          "name": "stdout"
        }
      ]
    },
    {
      "cell_type": "code",
      "metadata": {
        "id": "Wf-r-KEu2dz2"
      },
      "source": [
        "paths = {}\n",
        "paths['train_file'] = \"/content/drive/MyDrive/Finetune/run.py\""
      ],
      "execution_count": null,
      "outputs": []
    },
    {
      "cell_type": "markdown",
      "metadata": {
        "id": "Ig4uU0kWMcmO"
      },
      "source": [
        "**Include custom data or use test data placed at data/**"
      ]
    },
    {
      "cell_type": "code",
      "metadata": {
        "id": "Qb5Em1pFslBZ",
        "colab": {
          "base_uri": "https://localhost:8080/"
        },
        "outputId": "208fb097-37dd-4585-8da4-3ece241b2e70"
      },
      "source": [
        "import pandas as pd\n",
        "\n",
        "# Use small dataset placed at data/\n",
        "\n",
        "df_train = pd.read_csv(\"/content/drive/MyDrive/Finetune/data/news_summary_train_small.csv\", encoding='latin-1')\n",
        "df_train = df_train[['Text','Summary']]\n",
        "print(df_train.head())\n",
        "\n",
        "df_test = pd.read_csv(\"/content/drive/MyDrive/Finetune/data/news_summary_valid_small.csv\", encoding='latin-1')\n",
        "df_test = df_test[['Text','Summary']]\n",
        "print(df_test.head())\n",
        "\n",
        "# OR\n",
        "\n",
        "# Perform custom train test split\n",
        "\n",
        "\n"
      ],
      "execution_count": null,
      "outputs": [
        {
          "output_type": "stream",
          "text": [
            "                                                Text                                            Summary\n",
            "0  ÃÂÃÂ The late chief minister of Tamil Nadu,...  Late Tamil Nadu CM Jayalalithaa's niece Amruth...\n",
            "1  ÃÂÃÂ The Chhattisgarh government will begin...  Chhattisgarh Chief Minister Raman Singh on Sun...\n",
            "2  ÃÂÃÂ Sacked Delhi minister Kapil Mishra has...  Sacked AAP Minister Kapil Mishra on Sunday acc...\n",
            "3  ÃÂÃÂ In a first, Delhi High Court has intro...  Delhi High Court on Monday launched a helpline...\n",
            "4  week: Police Ghaziabad, Jul 29 (PTI) The Ghazi...  The Ghaziabad Police on Sunday said they have ...\n",
            "                                                Text                                            Summary\n",
            "0  With school and college admissions being the f...  Doctors at various hospitals have claimed that...\n",
            "1  With photos of Maharashtra's water resources m...  As per reports, Maharashtra minister Girish Ma...\n",
            "2  With no end in sight to the standoff in the Si...  China on Saturday said there is \"no room\" for ...\n",
            "3  With less than two days' fuel left in pollboun...  The Indian Air Force (IAF) aircraft on Monday ...\n",
            "4  With less than 10 days to go for the MCD polls...  Ahead of the Municipal Corporation of Delhi (M...\n"
          ],
          "name": "stdout"
        }
      ]
    },
    {
      "cell_type": "code",
      "metadata": {
        "id": "LXMF6K414esM",
        "colab": {
          "base_uri": "https://localhost:8080/"
        },
        "outputId": "dd0c2f53-dd6e-4e3c-f68b-ebd16005f391"
      },
      "source": [
        "paths['train_data_file'] = \"/content/drive/MyDrive/Finetune/data/news_summary_train_small.csv\"\n",
        "paths['test_data_file'] = \"/content/drive/MyDrive/Finetune/data/news_summary_valid_small.csv\"\n",
        "paths['output_directory'] = \"/content/drive/MyDrive/Finetune/data/output\"\n",
        "print(paths)"
      ],
      "execution_count": null,
      "outputs": [
        {
          "output_type": "stream",
          "text": [
            "{'train_file': '/content/drive/MyDrive/Finetune/run.py', 'train_data_file': '/content/drive/MyDrive/Finetune/data/news_summary_train_small.csv', 'test_data_file': '/content/drive/MyDrive/Finetune/data/news_summary_valid_small.csv', 'output_directory': '/content/drive/MyDrive/Finetune/data/output'}\n"
          ],
          "name": "stdout"
        }
      ]
    },
    {
      "cell_type": "markdown",
      "metadata": {
        "id": "qsFLnSjzWivn"
      },
      "source": [
        "**Train and Evaluate the model**"
      ]
    },
    {
      "cell_type": "markdown",
      "metadata": {
        "id": "QzjmnaPtTTrQ"
      },
      "source": [
        "More information regarding different arguments to run.py\n"
      ]
    },
    {
      "cell_type": "code",
      "metadata": {
        "colab": {
          "base_uri": "https://localhost:8080/"
        },
        "id": "K4yg4zSYr-rl",
        "outputId": "f0c1d2e6-81ee-40ef-cbea-ac97a7daed2c"
      },
      "source": [
        "!pip install transformers -U"
      ],
      "execution_count": null,
      "outputs": [
        {
          "output_type": "stream",
          "text": [
            "Requirement already up-to-date: transformers in /usr/local/lib/python3.7/dist-packages (4.3.3)\n",
            "Requirement already satisfied, skipping upgrade: tokenizers<0.11,>=0.10.1 in /usr/local/lib/python3.7/dist-packages (from transformers) (0.10.1)\n",
            "Requirement already satisfied, skipping upgrade: requests in /usr/local/lib/python3.7/dist-packages (from transformers) (2.23.0)\n",
            "Requirement already satisfied, skipping upgrade: importlib-metadata; python_version < \"3.8\" in /usr/local/lib/python3.7/dist-packages (from transformers) (3.7.0)\n",
            "Requirement already satisfied, skipping upgrade: sacremoses in /usr/local/lib/python3.7/dist-packages (from transformers) (0.0.43)\n",
            "Requirement already satisfied, skipping upgrade: regex!=2019.12.17 in /usr/local/lib/python3.7/dist-packages (from transformers) (2019.12.20)\n",
            "Requirement already satisfied, skipping upgrade: packaging in /usr/local/lib/python3.7/dist-packages (from transformers) (20.9)\n",
            "Requirement already satisfied, skipping upgrade: numpy>=1.17 in /usr/local/lib/python3.7/dist-packages (from transformers) (1.19.5)\n",
            "Requirement already satisfied, skipping upgrade: tqdm>=4.27 in /usr/local/lib/python3.7/dist-packages (from transformers) (4.41.1)\n",
            "Requirement already satisfied, skipping upgrade: filelock in /usr/local/lib/python3.7/dist-packages (from transformers) (3.0.12)\n",
            "Requirement already satisfied, skipping upgrade: certifi>=2017.4.17 in /usr/local/lib/python3.7/dist-packages (from requests->transformers) (2020.12.5)\n",
            "Requirement already satisfied, skipping upgrade: urllib3!=1.25.0,!=1.25.1,<1.26,>=1.21.1 in /usr/local/lib/python3.7/dist-packages (from requests->transformers) (1.24.3)\n",
            "Requirement already satisfied, skipping upgrade: chardet<4,>=3.0.2 in /usr/local/lib/python3.7/dist-packages (from requests->transformers) (3.0.4)\n",
            "Requirement already satisfied, skipping upgrade: idna<3,>=2.5 in /usr/local/lib/python3.7/dist-packages (from requests->transformers) (2.10)\n",
            "Requirement already satisfied, skipping upgrade: typing-extensions>=3.6.4; python_version < \"3.8\" in /usr/local/lib/python3.7/dist-packages (from importlib-metadata; python_version < \"3.8\"->transformers) (3.7.4.3)\n",
            "Requirement already satisfied, skipping upgrade: zipp>=0.5 in /usr/local/lib/python3.7/dist-packages (from importlib-metadata; python_version < \"3.8\"->transformers) (3.4.1)\n",
            "Requirement already satisfied, skipping upgrade: six in /usr/local/lib/python3.7/dist-packages (from sacremoses->transformers) (1.15.0)\n",
            "Requirement already satisfied, skipping upgrade: click in /usr/local/lib/python3.7/dist-packages (from sacremoses->transformers) (7.1.2)\n",
            "Requirement already satisfied, skipping upgrade: joblib in /usr/local/lib/python3.7/dist-packages (from sacremoses->transformers) (1.0.1)\n",
            "Requirement already satisfied, skipping upgrade: pyparsing>=2.0.2 in /usr/local/lib/python3.7/dist-packages (from packaging->transformers) (2.4.7)\n"
          ],
          "name": "stdout"
        }
      ]
    },
    {
      "cell_type": "code",
      "metadata": {
        "id": "KjD3UoZrRy9Z",
        "colab": {
          "base_uri": "https://localhost:8080/"
        },
        "outputId": "a3fbef28-0266-4290-9905-30fffef4f164"
      },
      "source": [
        "!python /content/drive/MyDrive/Finetune/run.py --help"
      ],
      "execution_count": null,
      "outputs": [
        {
          "output_type": "stream",
          "text": [
            "Traceback (most recent call last):\n",
            "  File \"/content/drive/MyDrive/Finetune/run.py\", line 17, in <module>\n",
            "    import transformers\n",
            "  File \"/content/drive/MyDrive/Finetune/transformers/__init__.py\", line 43, in <module>\n",
            "    from . import dependency_versions_check\n",
            "  File \"/content/drive/MyDrive/Finetune/transformers/dependency_versions_check.py\", line 41, in <module>\n",
            "    require_version_core(deps[pkg])\n",
            "  File \"/content/drive/MyDrive/Finetune/transformers/utils/versions.py\", line 94, in require_version_core\n",
            "    return require_version(requirement, hint)\n",
            "  File \"/content/drive/MyDrive/Finetune/transformers/utils/versions.py\", line 87, in require_version\n",
            "    f\"{requirement} is required for a normal functioning of this module, but found {pkg}=={got_ver}.{hint}\"\n",
            "pkg_resources.VersionConflict: tokenizers==0.9.4 is required for a normal functioning of this module, but found tokenizers==0.10.1.\n",
            "Try: pip install transformers -U or pip install -e '.[dev]' if you're working with git master\n"
          ],
          "name": "stdout"
        }
      ]
    },
    {
      "cell_type": "markdown",
      "metadata": {
        "id": "COe46Ys4TZ8n"
      },
      "source": [
        "**Running finetuning script**"
      ]
    },
    {
      "cell_type": "code",
      "metadata": {
        "colab": {
          "base_uri": "https://localhost:8080/"
        },
        "id": "bW3MUty4sWQZ",
        "outputId": "ea1db358-c131-4007-ec2c-b80b7cc48f54"
      },
      "source": [
        "!pip install transformers==2.7.0"
      ],
      "execution_count": null,
      "outputs": [
        {
          "output_type": "stream",
          "text": [
            "Collecting transformers==2.7.0\n",
            "\u001b[?25l  Downloading https://files.pythonhosted.org/packages/37/ba/dda44bbf35b071441635708a3dd568a5ca6bf29f77389f7c7c6818ae9498/transformers-2.7.0-py3-none-any.whl (544kB)\n",
            "\u001b[K     |████████████████████████████████| 552kB 16.8MB/s \n",
            "\u001b[?25hRequirement already satisfied: tqdm>=4.27 in /usr/local/lib/python3.7/dist-packages (from transformers==2.7.0) (4.41.1)\n",
            "Collecting boto3\n",
            "\u001b[?25l  Downloading https://files.pythonhosted.org/packages/46/59/c84e8e9b2e497c1226c0820cac24eb378dfece74c1b12d1fd3bc73c4ead8/boto3-1.17.23-py2.py3-none-any.whl (130kB)\n",
            "\u001b[K     |████████████████████████████████| 133kB 30.4MB/s \n",
            "\u001b[?25hRequirement already satisfied: requests in /usr/local/lib/python3.7/dist-packages (from transformers==2.7.0) (2.23.0)\n",
            "Collecting tokenizers==0.5.2\n",
            "\u001b[?25l  Downloading https://files.pythonhosted.org/packages/d6/e3/5e49e9a83fb605aaa34a1c1173e607302fecae529428c28696fb18f1c2c9/tokenizers-0.5.2-cp37-cp37m-manylinux1_x86_64.whl (5.6MB)\n",
            "\u001b[K     |████████████████████████████████| 5.6MB 26.4MB/s \n",
            "\u001b[?25hRequirement already satisfied: regex!=2019.12.17 in /usr/local/lib/python3.7/dist-packages (from transformers==2.7.0) (2019.12.20)\n",
            "Collecting sentencepiece\n",
            "\u001b[?25l  Downloading https://files.pythonhosted.org/packages/f5/99/e0808cb947ba10f575839c43e8fafc9cc44e4a7a2c8f79c60db48220a577/sentencepiece-0.1.95-cp37-cp37m-manylinux2014_x86_64.whl (1.2MB)\n",
            "\u001b[K     |████████████████████████████████| 1.2MB 54.6MB/s \n",
            "\u001b[?25hRequirement already satisfied: filelock in /usr/local/lib/python3.7/dist-packages (from transformers==2.7.0) (3.0.12)\n",
            "Requirement already satisfied: numpy in /usr/local/lib/python3.7/dist-packages (from transformers==2.7.0) (1.19.5)\n",
            "Requirement already satisfied: sacremoses in /usr/local/lib/python3.7/dist-packages (from transformers==2.7.0) (0.0.43)\n",
            "Collecting jmespath<1.0.0,>=0.7.1\n",
            "  Downloading https://files.pythonhosted.org/packages/07/cb/5f001272b6faeb23c1c9e0acc04d48eaaf5c862c17709d20e3469c6e0139/jmespath-0.10.0-py2.py3-none-any.whl\n",
            "Collecting botocore<1.21.0,>=1.20.23\n",
            "\u001b[?25l  Downloading https://files.pythonhosted.org/packages/9f/5a/4448c77fe6dc81789e7c81358e379359852a47331cca51647b4115a39aa4/botocore-1.20.23-py2.py3-none-any.whl (7.3MB)\n",
            "\u001b[K     |████████████████████████████████| 7.3MB 40.7MB/s \n",
            "\u001b[?25hCollecting s3transfer<0.4.0,>=0.3.0\n",
            "\u001b[?25l  Downloading https://files.pythonhosted.org/packages/ea/43/4b4a1b26eb03a429a4c37ca7fdf369d938bd60018fc194e94b8379b0c77c/s3transfer-0.3.4-py2.py3-none-any.whl (69kB)\n",
            "\u001b[K     |████████████████████████████████| 71kB 10.6MB/s \n",
            "\u001b[?25hRequirement already satisfied: idna<3,>=2.5 in /usr/local/lib/python3.7/dist-packages (from requests->transformers==2.7.0) (2.10)\n",
            "Requirement already satisfied: urllib3!=1.25.0,!=1.25.1,<1.26,>=1.21.1 in /usr/local/lib/python3.7/dist-packages (from requests->transformers==2.7.0) (1.24.3)\n",
            "Requirement already satisfied: certifi>=2017.4.17 in /usr/local/lib/python3.7/dist-packages (from requests->transformers==2.7.0) (2020.12.5)\n",
            "Requirement already satisfied: chardet<4,>=3.0.2 in /usr/local/lib/python3.7/dist-packages (from requests->transformers==2.7.0) (3.0.4)\n",
            "Requirement already satisfied: joblib in /usr/local/lib/python3.7/dist-packages (from sacremoses->transformers==2.7.0) (1.0.1)\n",
            "Requirement already satisfied: six in /usr/local/lib/python3.7/dist-packages (from sacremoses->transformers==2.7.0) (1.15.0)\n",
            "Requirement already satisfied: click in /usr/local/lib/python3.7/dist-packages (from sacremoses->transformers==2.7.0) (7.1.2)\n",
            "Requirement already satisfied: python-dateutil<3.0.0,>=2.1 in /usr/local/lib/python3.7/dist-packages (from botocore<1.21.0,>=1.20.23->boto3->transformers==2.7.0) (2.8.1)\n",
            "\u001b[31mERROR: botocore 1.20.23 has requirement urllib3<1.27,>=1.25.4, but you'll have urllib3 1.24.3 which is incompatible.\u001b[0m\n",
            "Installing collected packages: jmespath, botocore, s3transfer, boto3, tokenizers, sentencepiece, transformers\n",
            "  Found existing installation: tokenizers 0.10.1\n",
            "    Uninstalling tokenizers-0.10.1:\n",
            "      Successfully uninstalled tokenizers-0.10.1\n",
            "  Found existing installation: transformers 4.3.3\n",
            "    Uninstalling transformers-4.3.3:\n",
            "      Successfully uninstalled transformers-4.3.3\n",
            "Successfully installed boto3-1.17.23 botocore-1.20.23 jmespath-0.10.0 s3transfer-0.3.4 sentencepiece-0.1.95 tokenizers-0.5.2 transformers-2.7.0\n"
          ],
          "name": "stdout"
        }
      ]
    },
    {
      "cell_type": "code",
      "metadata": {
        "colab": {
          "base_uri": "https://localhost:8080/"
        },
        "id": "_xQNRvkHsPa7",
        "outputId": "aa2195f2-d9c1-48bf-debe-8a5ccf6b63d4"
      },
      "source": [
        "!pip install folium==0.2.1"
      ],
      "execution_count": null,
      "outputs": [
        {
          "output_type": "stream",
          "text": [
            "Collecting folium==0.2.1\n",
            "\u001b[?25l  Downloading https://files.pythonhosted.org/packages/72/dd/75ced7437bfa7cb9a88b96ee0177953062803c3b4cde411a97d98c35adaf/folium-0.2.1.tar.gz (69kB)\n",
            "\r\u001b[K     |████▊                           | 10kB 23.1MB/s eta 0:00:01\r\u001b[K     |█████████▍                      | 20kB 30.0MB/s eta 0:00:01\r\u001b[K     |██████████████                  | 30kB 21.0MB/s eta 0:00:01\r\u001b[K     |██████████████████▊             | 40kB 17.3MB/s eta 0:00:01\r\u001b[K     |███████████████████████▍        | 51kB 12.1MB/s eta 0:00:01\r\u001b[K     |████████████████████████████    | 61kB 11.7MB/s eta 0:00:01\r\u001b[K     |████████████████████████████████| 71kB 6.2MB/s \n",
            "\u001b[?25hRequirement already satisfied: Jinja2 in /usr/local/lib/python3.7/dist-packages (from folium==0.2.1) (2.11.3)\n",
            "Requirement already satisfied: MarkupSafe>=0.23 in /usr/local/lib/python3.7/dist-packages (from Jinja2->folium==0.2.1) (1.1.1)\n",
            "Building wheels for collected packages: folium\n",
            "  Building wheel for folium (setup.py) ... \u001b[?25l\u001b[?25hdone\n",
            "  Created wheel for folium: filename=folium-0.2.1-cp37-none-any.whl size=79979 sha256=ab0c6f8bc4f245f8d8d49634d2bfed28c6b3357d39d3d2953cad2b84315d5867\n",
            "  Stored in directory: /root/.cache/pip/wheels/b8/09/f0/52d2ef419c2aaf4fb149f92a33e0008bdce7ae816f0dd8f0c5\n",
            "Successfully built folium\n",
            "Installing collected packages: folium\n",
            "  Found existing installation: folium 0.8.3\n",
            "    Uninstalling folium-0.8.3:\n",
            "      Successfully uninstalled folium-0.8.3\n",
            "Successfully installed folium-0.2.1\n"
          ],
          "name": "stdout"
        }
      ]
    },
    {
      "cell_type": "code",
      "metadata": {
        "colab": {
          "base_uri": "https://localhost:8080/"
        },
        "id": "7jjgBZOFsLTo",
        "outputId": "362315b8-aa77-473e-a660-8a8f9c9f7b2b"
      },
      "source": [
        "\r\n",
        "!pip install urllib3==1.25.5"
      ],
      "execution_count": null,
      "outputs": [
        {
          "output_type": "stream",
          "text": [
            "Collecting urllib3==1.25.5\n",
            "\u001b[?25l  Downloading https://files.pythonhosted.org/packages/81/b7/cef47224900ca67078ed6e2db51342796007433ad38329558f56a15255f5/urllib3-1.25.5-py2.py3-none-any.whl (125kB)\n",
            "\r\u001b[K     |██▋                             | 10kB 21.2MB/s eta 0:00:01\r\u001b[K     |█████▏                          | 20kB 27.2MB/s eta 0:00:01\r\u001b[K     |███████▉                        | 30kB 20.4MB/s eta 0:00:01\r\u001b[K     |██████████▍                     | 40kB 16.9MB/s eta 0:00:01\r\u001b[K     |█████████████                   | 51kB 11.4MB/s eta 0:00:01\r\u001b[K     |███████████████▋                | 61kB 10.7MB/s eta 0:00:01\r\u001b[K     |██████████████████▎             | 71kB 11.3MB/s eta 0:00:01\r\u001b[K     |████████████████████▉           | 81kB 12.4MB/s eta 0:00:01\r\u001b[K     |███████████████████████▌        | 92kB 11.6MB/s eta 0:00:01\r\u001b[K     |██████████████████████████      | 102kB 12.6MB/s eta 0:00:01\r\u001b[K     |████████████████████████████▊   | 112kB 12.6MB/s eta 0:00:01\r\u001b[K     |███████████████████████████████▎| 122kB 12.6MB/s eta 0:00:01\r\u001b[K     |████████████████████████████████| 133kB 12.6MB/s \n",
            "\u001b[?25hInstalling collected packages: urllib3\n",
            "  Found existing installation: urllib3 1.24.3\n",
            "    Uninstalling urllib3-1.24.3:\n",
            "      Successfully uninstalled urllib3-1.24.3\n",
            "Successfully installed urllib3-1.25.5\n"
          ],
          "name": "stdout"
        }
      ]
    },
    {
      "cell_type": "code",
      "metadata": {
        "colab": {
          "base_uri": "https://localhost:8080/"
        },
        "id": "TWv1iVY9swrR",
        "outputId": "50d90dea-09d2-4f52-b79e-abcb94f2e348"
      },
      "source": [
        "!pip install transformers==4.0.0"
      ],
      "execution_count": null,
      "outputs": [
        {
          "output_type": "stream",
          "text": [
            "Collecting transformers==4.0.0\n",
            "\u001b[?25l  Downloading https://files.pythonhosted.org/packages/99/84/7bc03215279f603125d844bf81c3fb3f2d50fe8e511546eb4897e4be2067/transformers-4.0.0-py3-none-any.whl (1.4MB)\n",
            "\u001b[K     |████████████████████████████████| 1.4MB 13.5MB/s \n",
            "\u001b[?25hCollecting tokenizers==0.9.4\n",
            "\u001b[?25l  Downloading https://files.pythonhosted.org/packages/fb/36/59e4a62254c5fcb43894c6b0e9403ec6f4238cc2422a003ed2e6279a1784/tokenizers-0.9.4-cp37-cp37m-manylinux2010_x86_64.whl (2.9MB)\n",
            "\u001b[K     |████████████████████████████████| 2.9MB 50.5MB/s \n",
            "\u001b[?25hRequirement already satisfied: packaging in /usr/local/lib/python3.7/dist-packages (from transformers==4.0.0) (20.9)\n",
            "Requirement already satisfied: regex!=2019.12.17 in /usr/local/lib/python3.7/dist-packages (from transformers==4.0.0) (2019.12.20)\n",
            "Requirement already satisfied: filelock in /usr/local/lib/python3.7/dist-packages (from transformers==4.0.0) (3.0.12)\n",
            "Requirement already satisfied: requests in /usr/local/lib/python3.7/dist-packages (from transformers==4.0.0) (2.23.0)\n",
            "Requirement already satisfied: numpy in /usr/local/lib/python3.7/dist-packages (from transformers==4.0.0) (1.19.5)\n",
            "Requirement already satisfied: sacremoses in /usr/local/lib/python3.7/dist-packages (from transformers==4.0.0) (0.0.43)\n",
            "Requirement already satisfied: tqdm>=4.27 in /usr/local/lib/python3.7/dist-packages (from transformers==4.0.0) (4.41.1)\n",
            "Requirement already satisfied: pyparsing>=2.0.2 in /usr/local/lib/python3.7/dist-packages (from packaging->transformers==4.0.0) (2.4.7)\n",
            "Requirement already satisfied: idna<3,>=2.5 in /usr/local/lib/python3.7/dist-packages (from requests->transformers==4.0.0) (2.10)\n",
            "Requirement already satisfied: chardet<4,>=3.0.2 in /usr/local/lib/python3.7/dist-packages (from requests->transformers==4.0.0) (3.0.4)\n",
            "Requirement already satisfied: certifi>=2017.4.17 in /usr/local/lib/python3.7/dist-packages (from requests->transformers==4.0.0) (2020.12.5)\n",
            "Requirement already satisfied: urllib3!=1.25.0,!=1.25.1,<1.26,>=1.21.1 in /usr/local/lib/python3.7/dist-packages (from requests->transformers==4.0.0) (1.25.5)\n",
            "Requirement already satisfied: six in /usr/local/lib/python3.7/dist-packages (from sacremoses->transformers==4.0.0) (1.15.0)\n",
            "Requirement already satisfied: joblib in /usr/local/lib/python3.7/dist-packages (from sacremoses->transformers==4.0.0) (1.0.1)\n",
            "Requirement already satisfied: click in /usr/local/lib/python3.7/dist-packages (from sacremoses->transformers==4.0.0) (7.1.2)\n",
            "Installing collected packages: tokenizers, transformers\n",
            "  Found existing installation: tokenizers 0.5.2\n",
            "    Uninstalling tokenizers-0.5.2:\n",
            "      Successfully uninstalled tokenizers-0.5.2\n",
            "  Found existing installation: transformers 2.7.0\n",
            "    Uninstalling transformers-2.7.0:\n",
            "      Successfully uninstalled transformers-2.7.0\n",
            "Successfully installed tokenizers-0.9.4 transformers-4.0.0\n"
          ],
          "name": "stdout"
        }
      ]
    },
    {
      "cell_type": "code",
      "metadata": {
        "colab": {
          "base_uri": "https://localhost:8080/"
        },
        "id": "w2r8FhukGiXE",
        "outputId": "edd86b96-8c96-4599-d39b-6d413e536b0a"
      },
      "source": [
        "!pip install -r /content/requirements.txt"
      ],
      "execution_count": null,
      "outputs": [
        {
          "output_type": "stream",
          "text": [
            "\u001b[31mERROR: Could not open requirements file: [Errno 2] No such file or directory: '/content/requirements.txt'\u001b[0m\n"
          ],
          "name": "stdout"
        }
      ]
    },
    {
      "cell_type": "code",
      "metadata": {
        "colab": {
          "base_uri": "https://localhost:8080/"
        },
        "id": "_2m7oYuQsO2m",
        "outputId": "9b7fb549-e75c-40ca-8165-49159a677905"
      },
      "source": [
        "!pip install tokenizers==0.9.4"
      ],
      "execution_count": null,
      "outputs": [
        {
          "output_type": "stream",
          "text": [
            "Requirement already satisfied: tokenizers==0.9.4 in /usr/local/lib/python3.7/dist-packages (0.9.4)\n"
          ],
          "name": "stdout"
        }
      ]
    },
    {
      "cell_type": "code",
      "metadata": {
        "colab": {
          "base_uri": "https://localhost:8080/"
        },
        "id": "2DT7f1wgLREr",
        "outputId": "d8d3a610-cf5c-4dcf-fb16-5d94a20936a4"
      },
      "source": [
        "!git clone https://github.com/SteveMama/transformers.git transformers"
      ],
      "execution_count": null,
      "outputs": [
        {
          "output_type": "stream",
          "text": [
            "Cloning into 'transformers'...\n",
            "remote: Enumerating objects: 56, done.\u001b[K\n",
            "remote: Counting objects: 100% (56/56), done.\u001b[K\n",
            "remote: Compressing objects: 100% (56/56), done.\u001b[K\n",
            "remote: Total 66044 (delta 34), reused 15 (delta 0), pack-reused 65988\u001b[K\n",
            "Receiving objects: 100% (66044/66044), 49.50 MiB | 24.00 MiB/s, done.\n",
            "Resolving deltas: 100% (46874/46874), done.\n"
          ],
          "name": "stdout"
        }
      ]
    },
    {
      "cell_type": "code",
      "metadata": {
        "colab": {
          "base_uri": "https://localhost:8080/"
        },
        "id": "ab-cAiqKLzJ_",
        "outputId": "b96b2364-7cb5-4000-dccc-6205d55a0c11"
      },
      "source": [
        "!pip install transformers==2.9.0"
      ],
      "execution_count": null,
      "outputs": [
        {
          "output_type": "stream",
          "text": [
            "Collecting transformers==2.9.0\n",
            "\u001b[?25l  Downloading https://files.pythonhosted.org/packages/cd/38/c9527aa055241c66c4d785381eaf6f80a28c224cae97daa1f8b183b5fabb/transformers-2.9.0-py3-none-any.whl (635kB)\n",
            "\u001b[K     |████████████████████████████████| 645kB 13.1MB/s \n",
            "\u001b[?25hCollecting tokenizers==0.7.0\n",
            "\u001b[?25l  Downloading https://files.pythonhosted.org/packages/ea/59/bb06dd5ca53547d523422d32735585493e0103c992a52a97ba3aa3be33bf/tokenizers-0.7.0-cp37-cp37m-manylinux1_x86_64.whl (5.6MB)\n",
            "\u001b[K     |████████████████████████████████| 5.6MB 14.4MB/s \n",
            "\u001b[?25hRequirement already satisfied: numpy in /usr/local/lib/python3.7/dist-packages (from transformers==2.9.0) (1.19.5)\n",
            "Requirement already satisfied: requests in /usr/local/lib/python3.7/dist-packages (from transformers==2.9.0) (2.23.0)\n",
            "Requirement already satisfied: sentencepiece in /usr/local/lib/python3.7/dist-packages (from transformers==2.9.0) (0.1.95)\n",
            "Requirement already satisfied: sacremoses in /usr/local/lib/python3.7/dist-packages (from transformers==2.9.0) (0.0.43)\n",
            "Requirement already satisfied: regex!=2019.12.17 in /usr/local/lib/python3.7/dist-packages (from transformers==2.9.0) (2019.12.20)\n",
            "Requirement already satisfied: filelock in /usr/local/lib/python3.7/dist-packages (from transformers==2.9.0) (3.0.12)\n",
            "Requirement already satisfied: tqdm>=4.27 in /usr/local/lib/python3.7/dist-packages (from transformers==2.9.0) (4.41.1)\n",
            "Requirement already satisfied: chardet<4,>=3.0.2 in /usr/local/lib/python3.7/dist-packages (from requests->transformers==2.9.0) (3.0.4)\n",
            "Requirement already satisfied: idna<3,>=2.5 in /usr/local/lib/python3.7/dist-packages (from requests->transformers==2.9.0) (2.10)\n",
            "Requirement already satisfied: urllib3!=1.25.0,!=1.25.1,<1.26,>=1.21.1 in /usr/local/lib/python3.7/dist-packages (from requests->transformers==2.9.0) (1.25.5)\n",
            "Requirement already satisfied: certifi>=2017.4.17 in /usr/local/lib/python3.7/dist-packages (from requests->transformers==2.9.0) (2020.12.5)\n",
            "Requirement already satisfied: joblib in /usr/local/lib/python3.7/dist-packages (from sacremoses->transformers==2.9.0) (1.0.1)\n",
            "Requirement already satisfied: click in /usr/local/lib/python3.7/dist-packages (from sacremoses->transformers==2.9.0) (7.1.2)\n",
            "Requirement already satisfied: six in /usr/local/lib/python3.7/dist-packages (from sacremoses->transformers==2.9.0) (1.15.0)\n",
            "Installing collected packages: tokenizers, transformers\n",
            "  Found existing installation: tokenizers 0.9.4\n",
            "    Uninstalling tokenizers-0.9.4:\n",
            "      Successfully uninstalled tokenizers-0.9.4\n",
            "  Found existing installation: transformers 4.0.0\n",
            "    Uninstalling transformers-4.0.0:\n",
            "      Successfully uninstalled transformers-4.0.0\n",
            "Successfully installed tokenizers-0.7.0 transformers-2.9.0\n"
          ],
          "name": "stdout"
        }
      ]
    },
    {
      "cell_type": "code",
      "metadata": {
        "colab": {
          "base_uri": "https://localhost:8080/"
        },
        "id": "qynT7FjQNFaY",
        "outputId": "86b6210e-594c-4e02-a86f-346eac089c80"
      },
      "source": [
        "!pip install git+https://github.com/huggingface/transformers\r\n"
      ],
      "execution_count": null,
      "outputs": [
        {
          "output_type": "stream",
          "text": [
            "Collecting git+https://github.com/huggingface/transformers\n",
            "  Cloning https://github.com/huggingface/transformers to /tmp/pip-req-build-ff2eb7kr\n",
            "  Running command git clone -q https://github.com/huggingface/transformers /tmp/pip-req-build-ff2eb7kr\n",
            "  Installing build dependencies ... \u001b[?25l\u001b[?25hdone\n",
            "  Getting requirements to build wheel ... \u001b[?25l\u001b[?25hdone\n",
            "    Preparing wheel metadata ... \u001b[?25l\u001b[?25hdone\n",
            "Requirement already satisfied: packaging in /usr/local/lib/python3.7/dist-packages (from transformers==4.4.0.dev0) (20.9)\n",
            "Requirement already satisfied: requests in /usr/local/lib/python3.7/dist-packages (from transformers==4.4.0.dev0) (2.23.0)\n",
            "Requirement already satisfied: numpy>=1.17 in /usr/local/lib/python3.7/dist-packages (from transformers==4.4.0.dev0) (1.19.5)\n",
            "Requirement already satisfied: sacremoses in /usr/local/lib/python3.7/dist-packages (from transformers==4.4.0.dev0) (0.0.43)\n",
            "Requirement already satisfied: tqdm>=4.27 in /usr/local/lib/python3.7/dist-packages (from transformers==4.4.0.dev0) (4.41.1)\n",
            "Requirement already satisfied: filelock in /usr/local/lib/python3.7/dist-packages (from transformers==4.4.0.dev0) (3.0.12)\n",
            "Requirement already satisfied: importlib-metadata; python_version < \"3.8\" in /usr/local/lib/python3.7/dist-packages (from transformers==4.4.0.dev0) (3.7.0)\n",
            "Collecting tokenizers<0.11,>=0.10.1\n",
            "  Using cached https://files.pythonhosted.org/packages/71/23/2ddc317b2121117bf34dd00f5b0de194158f2a44ee2bf5e47c7166878a97/tokenizers-0.10.1-cp37-cp37m-manylinux2010_x86_64.whl\n",
            "Requirement already satisfied: regex!=2019.12.17 in /usr/local/lib/python3.7/dist-packages (from transformers==4.4.0.dev0) (2019.12.20)\n",
            "Requirement already satisfied: pyparsing>=2.0.2 in /usr/local/lib/python3.7/dist-packages (from packaging->transformers==4.4.0.dev0) (2.4.7)\n",
            "Requirement already satisfied: urllib3!=1.25.0,!=1.25.1,<1.26,>=1.21.1 in /usr/local/lib/python3.7/dist-packages (from requests->transformers==4.4.0.dev0) (1.25.5)\n",
            "Requirement already satisfied: chardet<4,>=3.0.2 in /usr/local/lib/python3.7/dist-packages (from requests->transformers==4.4.0.dev0) (3.0.4)\n",
            "Requirement already satisfied: idna<3,>=2.5 in /usr/local/lib/python3.7/dist-packages (from requests->transformers==4.4.0.dev0) (2.10)\n",
            "Requirement already satisfied: certifi>=2017.4.17 in /usr/local/lib/python3.7/dist-packages (from requests->transformers==4.4.0.dev0) (2020.12.5)\n",
            "Requirement already satisfied: six in /usr/local/lib/python3.7/dist-packages (from sacremoses->transformers==4.4.0.dev0) (1.15.0)\n",
            "Requirement already satisfied: joblib in /usr/local/lib/python3.7/dist-packages (from sacremoses->transformers==4.4.0.dev0) (1.0.1)\n",
            "Requirement already satisfied: click in /usr/local/lib/python3.7/dist-packages (from sacremoses->transformers==4.4.0.dev0) (7.1.2)\n",
            "Requirement already satisfied: zipp>=0.5 in /usr/local/lib/python3.7/dist-packages (from importlib-metadata; python_version < \"3.8\"->transformers==4.4.0.dev0) (3.4.1)\n",
            "Requirement already satisfied: typing-extensions>=3.6.4; python_version < \"3.8\" in /usr/local/lib/python3.7/dist-packages (from importlib-metadata; python_version < \"3.8\"->transformers==4.4.0.dev0) (3.7.4.3)\n",
            "Building wheels for collected packages: transformers\n",
            "  Building wheel for transformers (PEP 517) ... \u001b[?25l\u001b[?25hdone\n",
            "  Created wheel for transformers: filename=transformers-4.4.0.dev0-cp37-none-any.whl size=1938079 sha256=03fcdb86426c53220236e0d2a751f81495009b9cbdc006cf30d1244a7f87f607\n",
            "  Stored in directory: /tmp/pip-ephem-wheel-cache-60bcrfpw/wheels/70/d3/52/b3fa4f8b8ef04167ac62e5bb2accb62ae764db2a378247490e\n",
            "Successfully built transformers\n",
            "Installing collected packages: tokenizers, transformers\n",
            "  Found existing installation: tokenizers 0.7.0\n",
            "    Uninstalling tokenizers-0.7.0:\n",
            "      Successfully uninstalled tokenizers-0.7.0\n",
            "  Found existing installation: transformers 2.9.0\n",
            "    Uninstalling transformers-2.9.0:\n",
            "      Successfully uninstalled transformers-2.9.0\n",
            "Successfully installed tokenizers-0.10.1 transformers-4.4.0.dev0\n"
          ],
          "name": "stdout"
        }
      ]
    },
    {
      "cell_type": "code",
      "metadata": {
        "id": "W3brmWbRamJL"
      },
      "source": [
        "import torch\r\n",
        "torch.cuda.empty_cache()"
      ],
      "execution_count": null,
      "outputs": []
    },
    {
      "cell_type": "code",
      "metadata": {
        "colab": {
          "base_uri": "https://localhost:8080/"
        },
        "id": "6ODlLGy-LZpy",
        "outputId": "5f9aa542-b609-40cc-daa6-0267d25ed213"
      },
      "source": [
        "cd transformers/"
      ],
      "execution_count": null,
      "outputs": [
        {
          "output_type": "stream",
          "text": [
            "/content/transformers\n"
          ],
          "name": "stdout"
        }
      ]
    },
    {
      "cell_type": "code",
      "metadata": {
        "colab": {
          "base_uri": "https://localhost:8080/"
        },
        "id": "8a-xeUbacnPd",
        "outputId": "6e16b320-9322-47e1-8e97-4b9730fd51f5"
      },
      "source": [
        "!pip install torchvision "
      ],
      "execution_count": null,
      "outputs": [
        {
          "output_type": "stream",
          "text": [
            "Requirement already satisfied: torchvision in /usr/local/lib/python3.7/dist-packages (0.9.0+cu101)\n",
            "Requirement already satisfied: torch==1.8.0 in /usr/local/lib/python3.7/dist-packages (from torchvision) (1.8.0+cu101)\n",
            "Requirement already satisfied: pillow>=4.1.1 in /usr/local/lib/python3.7/dist-packages (from torchvision) (7.0.0)\n",
            "Requirement already satisfied: numpy in /usr/local/lib/python3.7/dist-packages (from torchvision) (1.19.5)\n",
            "Requirement already satisfied: typing-extensions in /usr/local/lib/python3.7/dist-packages (from torch==1.8.0->torchvision) (3.7.4.3)\n"
          ],
          "name": "stdout"
        }
      ]
    },
    {
      "cell_type": "code",
      "metadata": {
        "colab": {
          "base_uri": "https://localhost:8080/"
        },
        "id": "r57wzdUoJNdU",
        "outputId": "cf98eabd-eab1-4d22-a519-0aeff1aba716"
      },
      "source": [
        "!pip install py7zr"
      ],
      "execution_count": null,
      "outputs": [
        {
          "output_type": "stream",
          "text": [
            "Collecting py7zr\n",
            "\u001b[?25l  Downloading https://files.pythonhosted.org/packages/45/8b/79453b7fb9d03f615d41c24b29f0c687cc32b114f2205d90bb5fb5fa4362/py7zr-0.14.1-py3-none-any.whl (68kB)\n",
            "\r\u001b[K     |████▉                           | 10kB 25.8MB/s eta 0:00:01\r\u001b[K     |█████████▋                      | 20kB 31.9MB/s eta 0:00:01\r\u001b[K     |██████████████▍                 | 30kB 22.7MB/s eta 0:00:01\r\u001b[K     |███████████████████▎            | 40kB 17.6MB/s eta 0:00:01\r\u001b[K     |████████████████████████        | 51kB 16.2MB/s eta 0:00:01\r\u001b[K     |████████████████████████████▉   | 61kB 14.9MB/s eta 0:00:01\r\u001b[K     |████████████████████████████████| 71kB 7.3MB/s \n",
            "\u001b[?25hCollecting pyzstd<0.15.0,>=0.14.1; platform_python_implementation == \"CPython\"\n",
            "\u001b[?25l  Downloading https://files.pythonhosted.org/packages/e9/50/766ed314ff309b0fde72aac1560e8902ba5210bb626cb57d44ada53ea42d/pyzstd-0.14.3-cp37-cp37m-manylinux2014_x86_64.whl (2.2MB)\n",
            "\u001b[K     |████████████████████████████████| 2.2MB 21.6MB/s \n",
            "\u001b[?25hCollecting texttable\n",
            "  Downloading https://files.pythonhosted.org/packages/06/f5/46201c428aebe0eecfa83df66bf3e6caa29659dbac5a56ddfd83cae0d4a4/texttable-1.6.3-py2.py3-none-any.whl\n",
            "Collecting ppmd-cffi<0.4.0,>=0.3.1\n",
            "\u001b[?25l  Downloading https://files.pythonhosted.org/packages/20/54/780ac526a6c81783c48e5341418f7295dcabfcb28b236eb412e806053e4c/ppmd_cffi-0.3.3-cp37-cp37m-manylinux2014_x86_64.whl (122kB)\n",
            "\u001b[K     |████████████████████████████████| 122kB 57.5MB/s \n",
            "\u001b[?25hCollecting multivolumefile<0.3.0,>=0.2.0\n",
            "  Downloading https://files.pythonhosted.org/packages/02/2d/c7b951e8624edc8f44e544203cb45e5bad4b493665ecc7e442a6ff6cd943/multivolumefile-0.2.2-py3-none-any.whl\n",
            "Collecting bcj-cffi<0.6.0,>=0.5.0\n",
            "  Downloading https://files.pythonhosted.org/packages/f4/a7/1610527d72957416fa25606062cb4151e7f7e697b8224aa47079d3d14d56/bcj_cffi-0.5.0-cp37-cp37m-manylinux2014_x86_64.whl\n",
            "Collecting pycryptodome\n",
            "\u001b[?25l  Downloading https://files.pythonhosted.org/packages/ad/16/9627ab0493894a11c68e46000dbcc82f578c8ff06bc2980dcd016aea9bd3/pycryptodome-3.10.1-cp35-abi3-manylinux2010_x86_64.whl (1.9MB)\n",
            "\u001b[K     |████████████████████████████████| 1.9MB 55.8MB/s \n",
            "\u001b[?25hRequirement already satisfied: importlib-metadata; python_version < \"3.8\" in /usr/local/lib/python3.7/dist-packages (from py7zr) (3.7.0)\n",
            "Requirement already satisfied: cffi>=1.14.0 in /usr/local/lib/python3.7/dist-packages (from ppmd-cffi<0.4.0,>=0.3.1->py7zr) (1.14.5)\n",
            "Requirement already satisfied: typing-extensions>=3.6.4; python_version < \"3.8\" in /usr/local/lib/python3.7/dist-packages (from importlib-metadata; python_version < \"3.8\"->py7zr) (3.7.4.3)\n",
            "Requirement already satisfied: zipp>=0.5 in /usr/local/lib/python3.7/dist-packages (from importlib-metadata; python_version < \"3.8\"->py7zr) (3.4.1)\n",
            "Requirement already satisfied: pycparser in /usr/local/lib/python3.7/dist-packages (from cffi>=1.14.0->ppmd-cffi<0.4.0,>=0.3.1->py7zr) (2.20)\n",
            "Installing collected packages: pyzstd, texttable, ppmd-cffi, multivolumefile, bcj-cffi, pycryptodome, py7zr\n",
            "Successfully installed bcj-cffi-0.5.0 multivolumefile-0.2.2 ppmd-cffi-0.3.3 py7zr-0.14.1 pycryptodome-3.10.1 pyzstd-0.14.3 texttable-1.6.3\n"
          ],
          "name": "stdout"
        }
      ]
    },
    {
      "cell_type": "code",
      "metadata": {
        "id": "GDywfTOoHqB_"
      },
      "source": [
        "#Make sure you create an empty folder with the name Pegasus-samsum"
      ],
      "execution_count": null,
      "outputs": []
    },
    {
      "cell_type": "code",
      "metadata": {
        "colab": {
          "base_uri": "https://localhost:8080/"
        },
        "id": "GdTObrUbKR6g",
        "outputId": "afbca83b-fda2-4513-fd7d-2afb2e83aabd"
      },
      "source": [
        "!python examples/seq2seq/run_seq2seq.py \\\r\n",
        "    --model_name_or_path google/pegasus-multi_news \\\r\n",
        "    --do_train \\\r\n",
        "    --do_eval \\\r\n",
        "    --task summarization \\\r\n",
        "    --dataset_name wiki_summary \\\r\n",
        "    --output_dir /content/model-output \\\r\n",
        "    --per_device_train_batch_size=1 \\\r\n",
        "    --per_device_eval_batch_size=1 \\\r\n",
        "    --overwrite_output_dir \\\r\n",
        "    --predict_with_generate \\\r\n",
        "    --max_train_samples 500 \\\r\n",
        "    --max_val_samples 50\r\n"
      ],
      "execution_count": null,
      "outputs": [
        {
          "output_type": "stream",
          "text": [
            "2021-03-09 13:16:43.819021: I tensorflow/stream_executor/platform/default/dso_loader.cc:49] Successfully opened dynamic library libcudart.so.11.0\n",
            "03/09/2021 13:16:45 - WARNING - __main__ -   Process rank: -1, device: cuda:0, n_gpu: 1distributed training: False, 16-bits training: False\n",
            "03/09/2021 13:16:45 - INFO - __main__ -   Training/evaluation parameters Seq2SeqTrainingArguments(output_dir='/content/model-output', overwrite_output_dir=True, do_train=True, do_eval=True, do_predict=False, evaluation_strategy=<IntervalStrategy.NO: 'no'>, prediction_loss_only=False, per_device_train_batch_size=1, per_device_eval_batch_size=1, per_gpu_train_batch_size=None, per_gpu_eval_batch_size=None, gradient_accumulation_steps=1, eval_accumulation_steps=None, learning_rate=5e-05, weight_decay=0.0, adam_beta1=0.9, adam_beta2=0.999, adam_epsilon=1e-08, max_grad_norm=1.0, num_train_epochs=3.0, max_steps=-1, lr_scheduler_type=<SchedulerType.LINEAR: 'linear'>, warmup_ratio=0.0, warmup_steps=0, logging_dir='runs/Mar09_13-16-45_40a67aa6d9a3', logging_strategy=<IntervalStrategy.STEPS: 'steps'>, logging_first_step=False, logging_steps=500, save_strategy=<IntervalStrategy.STEPS: 'steps'>, save_steps=500, save_total_limit=None, no_cuda=False, seed=42, fp16=False, fp16_opt_level='O1', fp16_backend='auto', fp16_full_eval=False, local_rank=-1, tpu_num_cores=None, tpu_metrics_debug=False, debug=False, dataloader_drop_last=False, eval_steps=500, dataloader_num_workers=0, past_index=-1, run_name='/content/model-output', disable_tqdm=False, remove_unused_columns=True, label_names=None, load_best_model_at_end=False, metric_for_best_model=None, greater_is_better=None, ignore_data_skip=False, sharded_ddp=[], deepspeed=None, label_smoothing_factor=0.0, adafactor=False, group_by_length=False, report_to=['tensorboard'], ddp_find_unused_parameters=None, dataloader_pin_memory=True, skip_memory_metrics=False, sortish_sampler=False, predict_with_generate=True)\n",
            "Downloading: 3.50kB [00:00, 4.32MB/s]       \n",
            "Downloading: 2.27kB [00:00, 2.92MB/s]     \n",
            "03/09/2021 13:16:46 - WARNING - datasets.builder -   Using custom data configuration default\n",
            "Downloading and preparing dataset wiki_summary/default (download: 243.35 MiB, generated: 244.15 MiB, post-processed: Unknown size, total: 487.50 MiB) to /root/.cache/huggingface/datasets/wiki_summary/default/1.1.0/33e82a61f6226ad44cef370bb42e404534d4734e3351d9ed1af38fd92a262339...\n",
            "Downloading: 207MB [00:03, 52.9MB/s]\n",
            "Downloading: 25.6MB [00:01, 14.1MB/s]\n",
            "Downloading: 23.1MB [00:01, 12.4MB/s]\n",
            "Dataset wiki_summary downloaded and prepared to /root/.cache/huggingface/datasets/wiki_summary/default/1.1.0/33e82a61f6226ad44cef370bb42e404534d4734e3351d9ed1af38fd92a262339. Subsequent calls will reuse this data.\n",
            "https://huggingface.co/google/pegasus-multi_news/resolve/main/config.json not found in cache or force_download set to True, downloading to /root/.cache/huggingface/transformers/tmpl7qssw9q\n",
            "Downloading: 100% 1.12k/1.12k [00:00<00:00, 987kB/s]\n",
            "storing https://huggingface.co/google/pegasus-multi_news/resolve/main/config.json in cache at /root/.cache/huggingface/transformers/88fdbc1f25a56d793744f28f8bfceded6157f953a8de69238612c32df71549a1.446bbbd2bc4b5df93c8499fed6da60e471df0157eb75b184e100aceb302c5dd6\n",
            "creating metadata file for /root/.cache/huggingface/transformers/88fdbc1f25a56d793744f28f8bfceded6157f953a8de69238612c32df71549a1.446bbbd2bc4b5df93c8499fed6da60e471df0157eb75b184e100aceb302c5dd6\n",
            "loading configuration file https://huggingface.co/google/pegasus-multi_news/resolve/main/config.json from cache at /root/.cache/huggingface/transformers/88fdbc1f25a56d793744f28f8bfceded6157f953a8de69238612c32df71549a1.446bbbd2bc4b5df93c8499fed6da60e471df0157eb75b184e100aceb302c5dd6\n",
            "Model config PegasusConfig {\n",
            "  \"activation_dropout\": 0.1,\n",
            "  \"activation_function\": \"relu\",\n",
            "  \"add_bias_logits\": false,\n",
            "  \"add_final_layer_norm\": true,\n",
            "  \"architectures\": [\n",
            "    \"PegasusForConditionalGeneration\"\n",
            "  ],\n",
            "  \"attention_dropout\": 0.1,\n",
            "  \"bos_token_id\": 0,\n",
            "  \"classif_dropout\": 0.0,\n",
            "  \"classifier_dropout\": 0.0,\n",
            "  \"d_model\": 1024,\n",
            "  \"decoder_attention_heads\": 16,\n",
            "  \"decoder_ffn_dim\": 4096,\n",
            "  \"decoder_layerdrop\": 0.0,\n",
            "  \"decoder_layers\": 16,\n",
            "  \"decoder_start_token_id\": 0,\n",
            "  \"dropout\": 0.1,\n",
            "  \"encoder_attention_heads\": 16,\n",
            "  \"encoder_ffn_dim\": 4096,\n",
            "  \"encoder_layerdrop\": 0.0,\n",
            "  \"encoder_layers\": 16,\n",
            "  \"eos_token_id\": 1,\n",
            "  \"extra_pos_embeddings\": 1,\n",
            "  \"forced_eos_token_id\": 1,\n",
            "  \"gradient_checkpointing\": false,\n",
            "  \"id2label\": {\n",
            "    \"0\": \"LABEL_0\",\n",
            "    \"1\": \"LABEL_1\",\n",
            "    \"2\": \"LABEL_2\"\n",
            "  },\n",
            "  \"init_std\": 0.02,\n",
            "  \"is_encoder_decoder\": true,\n",
            "  \"label2id\": {\n",
            "    \"LABEL_0\": 0,\n",
            "    \"LABEL_1\": 1,\n",
            "    \"LABEL_2\": 2\n",
            "  },\n",
            "  \"length_penalty\": 0.8,\n",
            "  \"max_length\": 256,\n",
            "  \"max_position_embeddings\": 1024,\n",
            "  \"min_length\": 32,\n",
            "  \"model_type\": \"pegasus\",\n",
            "  \"normalize_before\": true,\n",
            "  \"normalize_embedding\": false,\n",
            "  \"num_beams\": 8,\n",
            "  \"num_hidden_layers\": 16,\n",
            "  \"pad_token_id\": 0,\n",
            "  \"scale_embedding\": true,\n",
            "  \"static_position_embeddings\": true,\n",
            "  \"transformers_version\": \"4.4.0.dev0\",\n",
            "  \"use_cache\": true,\n",
            "  \"vocab_size\": 96103\n",
            "}\n",
            "\n",
            "loading configuration file https://huggingface.co/google/pegasus-multi_news/resolve/main/config.json from cache at /root/.cache/huggingface/transformers/88fdbc1f25a56d793744f28f8bfceded6157f953a8de69238612c32df71549a1.446bbbd2bc4b5df93c8499fed6da60e471df0157eb75b184e100aceb302c5dd6\n",
            "Model config PegasusConfig {\n",
            "  \"activation_dropout\": 0.1,\n",
            "  \"activation_function\": \"relu\",\n",
            "  \"add_bias_logits\": false,\n",
            "  \"add_final_layer_norm\": true,\n",
            "  \"architectures\": [\n",
            "    \"PegasusForConditionalGeneration\"\n",
            "  ],\n",
            "  \"attention_dropout\": 0.1,\n",
            "  \"bos_token_id\": 0,\n",
            "  \"classif_dropout\": 0.0,\n",
            "  \"classifier_dropout\": 0.0,\n",
            "  \"d_model\": 1024,\n",
            "  \"decoder_attention_heads\": 16,\n",
            "  \"decoder_ffn_dim\": 4096,\n",
            "  \"decoder_layerdrop\": 0.0,\n",
            "  \"decoder_layers\": 16,\n",
            "  \"decoder_start_token_id\": 0,\n",
            "  \"dropout\": 0.1,\n",
            "  \"encoder_attention_heads\": 16,\n",
            "  \"encoder_ffn_dim\": 4096,\n",
            "  \"encoder_layerdrop\": 0.0,\n",
            "  \"encoder_layers\": 16,\n",
            "  \"eos_token_id\": 1,\n",
            "  \"extra_pos_embeddings\": 1,\n",
            "  \"forced_eos_token_id\": 1,\n",
            "  \"gradient_checkpointing\": false,\n",
            "  \"id2label\": {\n",
            "    \"0\": \"LABEL_0\",\n",
            "    \"1\": \"LABEL_1\",\n",
            "    \"2\": \"LABEL_2\"\n",
            "  },\n",
            "  \"init_std\": 0.02,\n",
            "  \"is_encoder_decoder\": true,\n",
            "  \"label2id\": {\n",
            "    \"LABEL_0\": 0,\n",
            "    \"LABEL_1\": 1,\n",
            "    \"LABEL_2\": 2\n",
            "  },\n",
            "  \"length_penalty\": 0.8,\n",
            "  \"max_length\": 256,\n",
            "  \"max_position_embeddings\": 1024,\n",
            "  \"min_length\": 32,\n",
            "  \"model_type\": \"pegasus\",\n",
            "  \"normalize_before\": true,\n",
            "  \"normalize_embedding\": false,\n",
            "  \"num_beams\": 8,\n",
            "  \"num_hidden_layers\": 16,\n",
            "  \"pad_token_id\": 0,\n",
            "  \"scale_embedding\": true,\n",
            "  \"static_position_embeddings\": true,\n",
            "  \"transformers_version\": \"4.4.0.dev0\",\n",
            "  \"use_cache\": true,\n",
            "  \"vocab_size\": 96103\n",
            "}\n",
            "\n",
            "Model name 'google/pegasus-multi_news' not found in model shortcut name list (google/pegasus-xsum). Assuming 'google/pegasus-multi_news' is a path, a model identifier, or url to a directory containing tokenizer files.\n",
            "https://huggingface.co/google/pegasus-multi_news/resolve/main/spiece.model not found in cache or force_download set to True, downloading to /root/.cache/huggingface/transformers/tmpfu_afdnw\n",
            "Downloading: 100% 1.91M/1.91M [00:00<00:00, 3.31MB/s]\n",
            "storing https://huggingface.co/google/pegasus-multi_news/resolve/main/spiece.model in cache at /root/.cache/huggingface/transformers/2b74b16ab551b1ebcf94dfb72afa34ba912cc77f984bb0d0a38006549c12b828.1acf68c74589da6c7fa3548093824dfc450a54637f4356929bbfea7e294a68f8\n",
            "creating metadata file for /root/.cache/huggingface/transformers/2b74b16ab551b1ebcf94dfb72afa34ba912cc77f984bb0d0a38006549c12b828.1acf68c74589da6c7fa3548093824dfc450a54637f4356929bbfea7e294a68f8\n",
            "https://huggingface.co/google/pegasus-multi_news/resolve/main/special_tokens_map.json not found in cache or force_download set to True, downloading to /root/.cache/huggingface/transformers/tmp0q2_8cy3\n",
            "Downloading: 100% 65.0/65.0 [00:00<00:00, 75.2kB/s]\n",
            "storing https://huggingface.co/google/pegasus-multi_news/resolve/main/special_tokens_map.json in cache at /root/.cache/huggingface/transformers/476934933f21de0325cc2f7908a7a783d3e0dad816db4ce9591b8bfbcb5dc2b2.294ebaa4cd17bb284635004c92d2c4d522ec488c828dcce0c2471b6f28e3fe82\n",
            "creating metadata file for /root/.cache/huggingface/transformers/476934933f21de0325cc2f7908a7a783d3e0dad816db4ce9591b8bfbcb5dc2b2.294ebaa4cd17bb284635004c92d2c4d522ec488c828dcce0c2471b6f28e3fe82\n",
            "https://huggingface.co/google/pegasus-multi_news/resolve/main/tokenizer_config.json not found in cache or force_download set to True, downloading to /root/.cache/huggingface/transformers/tmpvdul1u5z\n",
            "Downloading: 100% 88.0/88.0 [00:00<00:00, 105kB/s]\n",
            "storing https://huggingface.co/google/pegasus-multi_news/resolve/main/tokenizer_config.json in cache at /root/.cache/huggingface/transformers/4a853de2a66c974d43c754046e793bbbd04c4e16a38ffd2631c462fc2aa148fb.43f396f0ee3b974f9128267d49f69a26b11f3ed290851ac5788a549cc2979671\n",
            "creating metadata file for /root/.cache/huggingface/transformers/4a853de2a66c974d43c754046e793bbbd04c4e16a38ffd2631c462fc2aa148fb.43f396f0ee3b974f9128267d49f69a26b11f3ed290851ac5788a549cc2979671\n",
            "loading file https://huggingface.co/google/pegasus-multi_news/resolve/main/spiece.model from cache at /root/.cache/huggingface/transformers/2b74b16ab551b1ebcf94dfb72afa34ba912cc77f984bb0d0a38006549c12b828.1acf68c74589da6c7fa3548093824dfc450a54637f4356929bbfea7e294a68f8\n",
            "loading file https://huggingface.co/google/pegasus-multi_news/resolve/main/tokenizer.json from cache at None\n",
            "loading file https://huggingface.co/google/pegasus-multi_news/resolve/main/added_tokens.json from cache at None\n",
            "loading file https://huggingface.co/google/pegasus-multi_news/resolve/main/special_tokens_map.json from cache at /root/.cache/huggingface/transformers/476934933f21de0325cc2f7908a7a783d3e0dad816db4ce9591b8bfbcb5dc2b2.294ebaa4cd17bb284635004c92d2c4d522ec488c828dcce0c2471b6f28e3fe82\n",
            "loading file https://huggingface.co/google/pegasus-multi_news/resolve/main/tokenizer_config.json from cache at /root/.cache/huggingface/transformers/4a853de2a66c974d43c754046e793bbbd04c4e16a38ffd2631c462fc2aa148fb.43f396f0ee3b974f9128267d49f69a26b11f3ed290851ac5788a549cc2979671\n",
            "https://huggingface.co/google/pegasus-multi_news/resolve/main/pytorch_model.bin not found in cache or force_download set to True, downloading to /root/.cache/huggingface/transformers/tmp7du_bmr1\n",
            "Downloading: 100% 2.28G/2.28G [01:20<00:00, 28.4MB/s]\n",
            "storing https://huggingface.co/google/pegasus-multi_news/resolve/main/pytorch_model.bin in cache at /root/.cache/huggingface/transformers/f4e4652fa6538a32213f73ba65351237de92082d7457e262c899f87fb74a1968.fbbe2a2fe31e801738b4a20a7896c267b0ca4bcb3a4d1e2bfe4f7ceabac7fecc\n",
            "creating metadata file for /root/.cache/huggingface/transformers/f4e4652fa6538a32213f73ba65351237de92082d7457e262c899f87fb74a1968.fbbe2a2fe31e801738b4a20a7896c267b0ca4bcb3a4d1e2bfe4f7ceabac7fecc\n",
            "loading weights file https://huggingface.co/google/pegasus-multi_news/resolve/main/pytorch_model.bin from cache at /root/.cache/huggingface/transformers/f4e4652fa6538a32213f73ba65351237de92082d7457e262c899f87fb74a1968.fbbe2a2fe31e801738b4a20a7896c267b0ca4bcb3a4d1e2bfe4f7ceabac7fecc\n",
            "All model checkpoint weights were used when initializing PegasusForConditionalGeneration.\n",
            "\n",
            "All the weights of PegasusForConditionalGeneration were initialized from the model checkpoint at google/pegasus-multi_news.\n",
            "If your task is similar to the task the model of the checkpoint was trained on, you can already use PegasusForConditionalGeneration for predictions without further training.\n",
            "100% 1/1 [00:00<00:00,  1.13ba/s]\n",
            "100% 1/1 [00:00<00:00, 12.47ba/s]\n",
            "Downloading: 5.61kB [00:00, 4.45MB/s]       \n",
            "***** Running training *****\n",
            "  Num examples = 500\n",
            "  Num Epochs = 3\n",
            "  Instantaneous batch size per device = 1\n",
            "  Total train batch size (w. parallel, distributed & accumulation) = 1\n",
            "  Gradient Accumulation steps = 1\n",
            "  Total optimization steps = 1500\n",
            "{'loss': 0.4714, 'learning_rate': 3.3333333333333335e-05, 'epoch': 1.0}\n",
            " 33% 500/1500 [04:01<07:25,  2.24it/s]Saving model checkpoint to /content/model-output/checkpoint-500\n",
            "Configuration saved in /content/model-output/checkpoint-500/config.json\n",
            "Model weights saved in /content/model-output/checkpoint-500/pytorch_model.bin\n",
            "tokenizer config file saved in /content/model-output/checkpoint-500/tokenizer_config.json\n",
            "Special tokens file saved in /content/model-output/checkpoint-500/special_tokens_map.json\n",
            "{'loss': 0.3829, 'learning_rate': 1.6666666666666667e-05, 'epoch': 2.0}\n",
            " 67% 1000/1500 [10:26<04:02,  2.06it/s]Saving model checkpoint to /content/model-output/checkpoint-1000\n",
            "Configuration saved in /content/model-output/checkpoint-1000/config.json\n",
            "Model weights saved in /content/model-output/checkpoint-1000/pytorch_model.bin\n",
            "tokenizer config file saved in /content/model-output/checkpoint-1000/tokenizer_config.json\n",
            "Special tokens file saved in /content/model-output/checkpoint-1000/special_tokens_map.json\n",
            "{'loss': 0.3515, 'learning_rate': 0.0, 'epoch': 3.0}\n",
            "100% 1500/1500 [16:47<00:00,  2.09it/s]Saving model checkpoint to /content/model-output/checkpoint-1500\n",
            "Configuration saved in /content/model-output/checkpoint-1500/config.json\n",
            "Model weights saved in /content/model-output/checkpoint-1500/pytorch_model.bin\n",
            "tokenizer config file saved in /content/model-output/checkpoint-1500/tokenizer_config.json\n",
            "Special tokens file saved in /content/model-output/checkpoint-1500/special_tokens_map.json\n",
            "\n",
            "\n",
            "Training completed. Do not forget to share your model on huggingface.co/models =)\n",
            "\n",
            "\n",
            "{'train_runtime': 1119.7789, 'train_samples_per_second': 1.34, 'epoch': 3.0}\n",
            "100% 1500/1500 [18:44<00:00,  1.33it/s]\n",
            "Saving model checkpoint to /content/model-output\n",
            "Configuration saved in /content/model-output/config.json\n",
            "Model weights saved in /content/model-output/pytorch_model.bin\n",
            "tokenizer config file saved in /content/model-output/tokenizer_config.json\n",
            "Special tokens file saved in /content/model-output/special_tokens_map.json\n",
            "***** train metrics *****\n",
            "  epoch                      =       3.0\n",
            "  init_mem_cpu_alloc_delta   =       0MB\n",
            "  init_mem_cpu_peaked_delta  =       0MB\n",
            "  init_mem_gpu_alloc_delta   =    2178MB\n",
            "  init_mem_gpu_peaked_delta  =       0MB\n",
            "  train_mem_cpu_alloc_delta  =       0MB\n",
            "  train_mem_cpu_peaked_delta =     378MB\n",
            "  train_mem_gpu_alloc_delta  =    6513MB\n",
            "  train_mem_gpu_peaked_delta =    5651MB\n",
            "  train_runtime              = 1119.7789\n",
            "  train_samples              =       500\n",
            "  train_samples_per_second   =      1.34\n",
            "Saving model checkpoint to /content/pegasus-samsum\n",
            "Configuration saved in /content/pegasus-samsum/config.json\n",
            "Model weights saved in /content/pegasus-samsum/pytorch_model.bin\n",
            "tokenizer config file saved in /content/pegasus-samsum/tokenizer_config.json\n",
            "Special tokens file saved in /content/pegasus-samsum/special_tokens_map.json\n",
            "tokenizer config file saved in /content/pegasus-samsum/tokenizer_config.json\n",
            "Special tokens file saved in /content/pegasus-samsum/special_tokens_map.json\n",
            "03/09/2021 13:39:58 - INFO - __main__ -   *** Evaluate ***\n",
            "***** Running Evaluation *****\n",
            "  Num examples = 50\n",
            "  Batch size = 1\n",
            "100% 50/50 [02:24<00:00,  2.89s/it]\n",
            "***** eval metrics *****\n",
            "  epoch                     =      3.0\n",
            "  eval_gen_len              =    127.0\n",
            "  eval_loss                 =   0.4956\n",
            "  eval_mem_cpu_alloc_delta  =      1MB\n",
            "  eval_mem_cpu_peaked_delta =      2MB\n",
            "  eval_mem_gpu_alloc_delta  =      0MB\n",
            "  eval_mem_gpu_peaked_delta =   1450MB\n",
            "  eval_rouge1               =      0.0\n",
            "  eval_rouge2               =      0.0\n",
            "  eval_rougeL               =      0.0\n",
            "  eval_rougeLsum            =      0.0\n",
            "  eval_runtime              = 147.5914\n",
            "  eval_samples              =       50\n",
            "  eval_samples_per_second   =    0.339\n"
          ],
          "name": "stdout"
        }
      ]
    },
    {
      "cell_type": "code",
      "metadata": {
        "id": "S_NuQ6koX7gu"
      },
      "source": [
        "from transformers import PegasusTokenizer, PegasusForConditionalGeneration\r\n",
        "from typing import List\r\n",
        "PGE_ARTICLE = \"let's assume for a second that Marcuse's right. That in a country where many of the citizens see freedom as the fundamental thing the United States embodies... in reality, the population's actually living under an advanced version of monopoly capitalism, that has sort of metastasized and taken control of everything from art, to politics, to government, all of this amounting to what's probably the most clever, insidious totalitarian system in history. Let's say you're living in that...how would you know that you were living in it? What sort of clues would you see around you if you did...would you even notice them? Or would you frame who you are so much in relation to that totalitarian system, that nothing would ever seem out of the ordinary to you?Herbert Marcuse would probably say that if you want to figure out the answers to these questions...maybe it would be useful to put yourself in the shoes of a member of an overtly totalitarian society to see what's similar.\"\r\n",
        "mname = \"/content/pegasus-samsum\"\r\n",
        "model = PegasusForConditionalGeneration.from_pretrained(mname)\r\n",
        "tok = PegasusTokenizer.from_pretrained(mname)\r\n"
      ],
      "execution_count": null,
      "outputs": []
    },
    {
      "cell_type": "code",
      "metadata": {
        "colab": {
          "base_uri": "https://localhost:8080/"
        },
        "id": "G5XWGP01cvCL",
        "outputId": "0f405985-63b9-4bce-c82a-855e0e282c33"
      },
      "source": [
        "batch = tok.prepare_seq2seq_batch(src_texts=[PGE_ARTICLE], truncation=True, padding='longest', return_tensors='pt')\r\n"
      ],
      "execution_count": null,
      "outputs": [
        {
          "output_type": "stream",
          "text": [
            "/usr/local/lib/python3.7/dist-packages/transformers/tokenization_utils_base.py:3239: FutureWarning: `prepare_seq2seq_batch` is deprecated and will be removed in version 5 of 🤗 Transformers. Use the regular `__call__` method to prepare your inputs and the tokenizer under the `with_target_tokenizer` context manager to prepare your targets. See the documentation of your specific tokenizer for more details\n",
            "  FutureWarning,\n"
          ],
          "name": "stderr"
        }
      ]
    },
    {
      "cell_type": "code",
      "metadata": {
        "colab": {
          "base_uri": "https://localhost:8080/"
        },
        "id": "9bZY6wh2a9Tn",
        "outputId": "d08b41a1-011d-4aac-d7c7-ab5fe0ece3d8"
      },
      "source": [
        "gen = model.generate(**batch) \r\n",
        "summary: List[str] = tok.batch_decode(gen, skip_special_tokens=True)\r\n",
        "print(summary)\r\n"
      ],
      "execution_count": null,
      "outputs": [
        {
          "output_type": "stream",
          "text": [
            "['– If you\\'ve ever wondered what it\\'s like to live in a totalitarian society, Herbert Marcuse has just the thing for you. In an excerpt from his new book, A totalitarian society: life and death in America, Marcuse writes: \"Let\\'s assume for a second that Marcuse\\'s right. That in a country where many of the citizens see freedom as the fundamental thing the United States embodies... in reality, the population\\'s actually living under an advanced version of monopoly capitalism, that has sort of metastasized and taken control of everything from art, to politics, to government, all of this amounting to what\\'s probably the most clever, insidious totalitarian system in history.... What sort of clues would you see around you if you did... would you even notice them? Or would you frame who you are so much in relation to that totalitarian system, that nothing would ever seem out of the ordinary to you?\"']\n"
          ],
          "name": "stdout"
        }
      ]
    },
    {
      "cell_type": "code",
      "metadata": {
        "id": "yemT1pWReyMG"
      },
      "source": [
        " #WE JUST HIT THE MOTHER FUCKING LOAD"
      ],
      "execution_count": null,
      "outputs": []
    },
    {
      "cell_type": "code",
      "metadata": {
        "id": "r1HuOXlhgyMU",
        "colab": {
          "base_uri": "https://localhost:8080/"
        },
        "outputId": "62103fea-6947-4b3f-bcc6-d2c54f618470"
      },
      "source": [
        "!zip -r /content/pegasus-model.zip /content/pegasus-samsum"
      ],
      "execution_count": null,
      "outputs": [
        {
          "output_type": "stream",
          "text": [
            "updating: content/pegasus-samsum/ (stored 0%)\n",
            "  adding: content/pegasus-samsum/special_tokens_map.json (deflated 78%)\n",
            "  adding: content/pegasus-samsum/config.json (deflated 60%)\n",
            "  adding: content/pegasus-samsum/training_args.bin (deflated 46%)\n",
            "  adding: content/pegasus-samsum/tokenizer_config.json (deflated 75%)\n",
            "  adding: content/pegasus-samsum/spiece.model (deflated 50%)\n",
            "  adding: content/pegasus-samsum/pytorch_model.bin (deflated 7%)\n"
          ],
          "name": "stdout"
        }
      ]
    },
    {
      "cell_type": "code",
      "metadata": {
        "colab": {
          "base_uri": "https://localhost:8080/",
          "height": 34
        },
        "id": "5Krx_KcWQJw8",
        "outputId": "f238faaf-c98b-454f-f02e-47635211b762"
      },
      "source": [
        "from google.colab import files\r\n",
        "files.download(\"/content/pegasus-model.zip\")"
      ],
      "execution_count": null,
      "outputs": [
        {
          "output_type": "display_data",
          "data": {
            "application/javascript": [
              "\n",
              "    async function download(id, filename, size) {\n",
              "      if (!google.colab.kernel.accessAllowed) {\n",
              "        return;\n",
              "      }\n",
              "      const div = document.createElement('div');\n",
              "      const label = document.createElement('label');\n",
              "      label.textContent = `Downloading \"${filename}\": `;\n",
              "      div.appendChild(label);\n",
              "      const progress = document.createElement('progress');\n",
              "      progress.max = size;\n",
              "      div.appendChild(progress);\n",
              "      document.body.appendChild(div);\n",
              "\n",
              "      const buffers = [];\n",
              "      let downloaded = 0;\n",
              "\n",
              "      const channel = await google.colab.kernel.comms.open(id);\n",
              "      // Send a message to notify the kernel that we're ready.\n",
              "      channel.send({})\n",
              "\n",
              "      for await (const message of channel.messages) {\n",
              "        // Send a message to notify the kernel that we're ready.\n",
              "        channel.send({})\n",
              "        if (message.buffers) {\n",
              "          for (const buffer of message.buffers) {\n",
              "            buffers.push(buffer);\n",
              "            downloaded += buffer.byteLength;\n",
              "            progress.value = downloaded;\n",
              "          }\n",
              "        }\n",
              "      }\n",
              "      const blob = new Blob(buffers, {type: 'application/binary'});\n",
              "      const a = document.createElement('a');\n",
              "      a.href = window.URL.createObjectURL(blob);\n",
              "      a.download = filename;\n",
              "      div.appendChild(a);\n",
              "      a.click();\n",
              "      div.remove();\n",
              "    }\n",
              "  "
            ],
            "text/plain": [
              "<IPython.core.display.Javascript object>"
            ]
          },
          "metadata": {
            "tags": []
          }
        },
        {
          "output_type": "display_data",
          "data": {
            "application/javascript": [
              "download(\"download_47585fbe-e1ff-4fb1-9f0f-807705e90e53\", \"pegasus-model.zip\", 2122139189)"
            ],
            "text/plain": [
              "<IPython.core.display.Javascript object>"
            ]
          },
          "metadata": {
            "tags": []
          }
        }
      ]
    },
    {
      "cell_type": "code",
      "metadata": {
        "id": "xL49lGMnRDHy"
      },
      "source": [
        ""
      ],
      "execution_count": null,
      "outputs": []
    }
  ]
}